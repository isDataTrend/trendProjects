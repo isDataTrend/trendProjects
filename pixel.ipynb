{
 "cells": [
  {
   "cell_type": "markdown",
   "id": "3bd4634e",
   "metadata": {},
   "source": [
    "Data taken from: https://zenodo.org/record/6320338/files/Training_Data.zip?download=1"
   ]
  },
  {
   "cell_type": "code",
   "execution_count": 1,
   "id": "33921868",
   "metadata": {},
   "outputs": [],
   "source": [
    "import pandas as pd\n",
    "import numpy as np\n",
    "import matplotlib.pyplot as plt\n",
    "import seaborn as sns\n",
    "import zlib"
   ]
  },
  {
   "cell_type": "code",
   "execution_count": 2,
   "id": "0ad912b4",
   "metadata": {},
   "outputs": [],
   "source": [
    "data=pd.read_json('Training_Data/training.json', encoding='utf-8-sig')"
   ]
  },
  {
   "cell_type": "code",
   "execution_count": 3,
   "id": "c42e13d9",
   "metadata": {},
   "outputs": [
    {
     "data": {
      "text/plain": [
       "(14, 813162)"
      ]
     },
     "execution_count": 3,
     "metadata": {},
     "output_type": "execute_result"
    }
   ],
   "source": [
    "data.shape"
   ]
  },
  {
   "cell_type": "code",
   "execution_count": 4,
   "id": "d95be382",
   "metadata": {},
   "outputs": [
    {
     "data": {
      "text/html": [
       "<div>\n",
       "<style scoped>\n",
       "    .dataframe tbody tr th:only-of-type {\n",
       "        vertical-align: middle;\n",
       "    }\n",
       "\n",
       "    .dataframe tbody tr th {\n",
       "        vertical-align: top;\n",
       "    }\n",
       "\n",
       "    .dataframe thead th {\n",
       "        text-align: right;\n",
       "    }\n",
       "</style>\n",
       "<table border=\"1\" class=\"dataframe\">\n",
       "  <thead>\n",
       "    <tr style=\"text-align: right;\">\n",
       "      <th></th>\n",
       "      <th>5127</th>\n",
       "      <th>5130</th>\n",
       "      <th>5248</th>\n",
       "      <th>5319</th>\n",
       "      <th>5338</th>\n",
       "      <th>11107</th>\n",
       "      <th>11147</th>\n",
       "      <th>11153</th>\n",
       "      <th>11158</th>\n",
       "      <th>11164</th>\n",
       "      <th>...</th>\n",
       "      <th>10380948</th>\n",
       "      <th>10380949</th>\n",
       "      <th>1038095</th>\n",
       "      <th>10380950</th>\n",
       "      <th>10380969</th>\n",
       "      <th>10380973</th>\n",
       "      <th>10380974</th>\n",
       "      <th>10380975</th>\n",
       "      <th>10380976</th>\n",
       "      <th>10380996</th>\n",
       "    </tr>\n",
       "  </thead>\n",
       "  <tbody>\n",
       "    <tr>\n",
       "      <th>blocked</th>\n",
       "      <td>[1, 1]</td>\n",
       "      <td>[1, 0]</td>\n",
       "      <td>[1, 0]</td>\n",
       "      <td>[1, 0]</td>\n",
       "      <td>[1, 0]</td>\n",
       "      <td>[1, 0]</td>\n",
       "      <td>[1, 0]</td>\n",
       "      <td>[0, 1]</td>\n",
       "      <td>[1, 0]</td>\n",
       "      <td>[0, 1]</td>\n",
       "      <td>...</td>\n",
       "      <td>[1, 0]</td>\n",
       "      <td>[1, 0]</td>\n",
       "      <td>[1, 0]</td>\n",
       "      <td>[1, 0]</td>\n",
       "      <td>[1, 0]</td>\n",
       "      <td>[1, 0]</td>\n",
       "      <td>[1, 0]</td>\n",
       "      <td>[1, 0]</td>\n",
       "      <td>[1, 0]</td>\n",
       "      <td>[1, 0]</td>\n",
       "    </tr>\n",
       "  </tbody>\n",
       "</table>\n",
       "<p>1 rows × 813162 columns</p>\n",
       "</div>"
      ],
      "text/plain": [
       "        5127     5130     5248     5319     5338     11107    11147     \\\n",
       "blocked   [1, 1]   [1, 0]   [1, 0]   [1, 0]   [1, 0]   [1, 0]   [1, 0]   \n",
       "\n",
       "        11153    11158    11164     ... 10380948 10380949 1038095  10380950  \\\n",
       "blocked   [0, 1]   [1, 0]   [0, 1]  ...   [1, 0]   [1, 0]   [1, 0]   [1, 0]   \n",
       "\n",
       "        10380969 10380973 10380974 10380975 10380976 10380996  \n",
       "blocked   [1, 0]   [1, 0]   [1, 0]   [1, 0]   [1, 0]   [1, 0]  \n",
       "\n",
       "[1 rows x 813162 columns]"
      ]
     },
     "execution_count": 4,
     "metadata": {},
     "output_type": "execute_result"
    }
   ],
   "source": [
    "data.sample(1)"
   ]
  },
  {
   "cell_type": "code",
   "execution_count": 5,
   "id": "df753c51",
   "metadata": {},
   "outputs": [
    {
     "data": {
      "text/html": [
       "<div>\n",
       "<style scoped>\n",
       "    .dataframe tbody tr th:only-of-type {\n",
       "        vertical-align: middle;\n",
       "    }\n",
       "\n",
       "    .dataframe tbody tr th {\n",
       "        vertical-align: top;\n",
       "    }\n",
       "\n",
       "    .dataframe thead th {\n",
       "        text-align: right;\n",
       "    }\n",
       "</style>\n",
       "<table border=\"1\" class=\"dataframe\">\n",
       "  <thead>\n",
       "    <tr style=\"text-align: right;\">\n",
       "      <th></th>\n",
       "      <th>visit_id</th>\n",
       "      <th>request_id</th>\n",
       "      <th>url</th>\n",
       "      <th>first_party_domain</th>\n",
       "      <th>label</th>\n",
       "      <th>triggering_origin</th>\n",
       "      <th>headers</th>\n",
       "      <th>img_format</th>\n",
       "      <th>img_size</th>\n",
       "      <th>img_mode</th>\n",
       "      <th>img_colour</th>\n",
       "      <th>matched</th>\n",
       "      <th>moved</th>\n",
       "      <th>blocked</th>\n",
       "    </tr>\n",
       "  </thead>\n",
       "  <tbody>\n",
       "    <tr>\n",
       "      <th>5127</th>\n",
       "      <td>5</td>\n",
       "      <td>127</td>\n",
       "      <td>http://googleads.g.doubleclick.net/pagead/view...</td>\n",
       "      <td>http://www.b-travel.com/</td>\n",
       "      <td>3</td>\n",
       "      <td>http://www.b-travel.com</td>\n",
       "      <td>[[\"Host\",\"googleads.g.doubleclick.net\"],[\"User...</td>\n",
       "      <td>GIF</td>\n",
       "      <td>[1, 1]</td>\n",
       "      <td>P</td>\n",
       "      <td>[0, 0, 0, 0]</td>\n",
       "      <td>1</td>\n",
       "      <td>0</td>\n",
       "      <td>[1, 1]</td>\n",
       "    </tr>\n",
       "    <tr>\n",
       "      <th>5130</th>\n",
       "      <td>5</td>\n",
       "      <td>130</td>\n",
       "      <td>http://www.google-analytics.com/collect?v=1&amp;_v...</td>\n",
       "      <td>http://www.b-travel.com/</td>\n",
       "      <td>2</td>\n",
       "      <td>http://www.b-travel.com</td>\n",
       "      <td>[[\"Host\",\"www.google-analytics.com\"],[\"User-Ag...</td>\n",
       "      <td>GIF</td>\n",
       "      <td>[1, 1]</td>\n",
       "      <td>P</td>\n",
       "      <td>[255, 255, 255, 255]</td>\n",
       "      <td>1</td>\n",
       "      <td>0</td>\n",
       "      <td>[1, 0]</td>\n",
       "    </tr>\n",
       "    <tr>\n",
       "      <th>5248</th>\n",
       "      <td>5</td>\n",
       "      <td>248</td>\n",
       "      <td>https://www.facebook.com/tr/?id=26283382541559...</td>\n",
       "      <td>http://www.b-travel.com/</td>\n",
       "      <td>3</td>\n",
       "      <td>http://www.b-travel.com</td>\n",
       "      <td>[[\"Host\",\"www.facebook.com\"],[\"User-Agent\",\"Mo...</td>\n",
       "      <td>GIF</td>\n",
       "      <td>[1, 1]</td>\n",
       "      <td>P</td>\n",
       "      <td>[0, 0, 0, 0]</td>\n",
       "      <td>1</td>\n",
       "      <td>0</td>\n",
       "      <td>[1, 0]</td>\n",
       "    </tr>\n",
       "    <tr>\n",
       "      <th>5319</th>\n",
       "      <td>5</td>\n",
       "      <td>319</td>\n",
       "      <td>https://www.facebook.com/tr/?id=26283382541559...</td>\n",
       "      <td>http://www.b-travel.com/</td>\n",
       "      <td>3</td>\n",
       "      <td>http://www.b-travel.com</td>\n",
       "      <td>[[\"Host\",\"www.facebook.com\"],[\"User-Agent\",\"Mo...</td>\n",
       "      <td>GIF</td>\n",
       "      <td>[1, 1]</td>\n",
       "      <td>P</td>\n",
       "      <td>[0, 0, 0, 0]</td>\n",
       "      <td>1</td>\n",
       "      <td>0</td>\n",
       "      <td>[1, 0]</td>\n",
       "    </tr>\n",
       "    <tr>\n",
       "      <th>5338</th>\n",
       "      <td>5</td>\n",
       "      <td>338</td>\n",
       "      <td>https://www.google-analytics.com/collect?v=1&amp;_...</td>\n",
       "      <td>http://www.b-travel.com/</td>\n",
       "      <td>2</td>\n",
       "      <td>http://www.b-travel.com</td>\n",
       "      <td>[[\"Host\",\"www.google-analytics.com\"],[\"User-Ag...</td>\n",
       "      <td>GIF</td>\n",
       "      <td>[1, 1]</td>\n",
       "      <td>P</td>\n",
       "      <td>[255, 255, 255, 255]</td>\n",
       "      <td>1</td>\n",
       "      <td>0</td>\n",
       "      <td>[1, 0]</td>\n",
       "    </tr>\n",
       "    <tr>\n",
       "      <th>11107</th>\n",
       "      <td>11</td>\n",
       "      <td>107</td>\n",
       "      <td>https://cms.quantserve.com/dpixel?a=p-n5vvLvRd...</td>\n",
       "      <td>http://www.zeno.org/</td>\n",
       "      <td>3</td>\n",
       "      <td>https://pagead2.googlesyndication.com</td>\n",
       "      <td>[[\"Host\",\"cms.quantserve.com\"],[\"User-Agent\",\"...</td>\n",
       "      <td>GIF</td>\n",
       "      <td>[1, 1]</td>\n",
       "      <td>P</td>\n",
       "      <td>[255, 255, 255, 255]</td>\n",
       "      <td>1</td>\n",
       "      <td>0</td>\n",
       "      <td>[1, 0]</td>\n",
       "    </tr>\n",
       "    <tr>\n",
       "      <th>11147</th>\n",
       "      <td>11</td>\n",
       "      <td>147</td>\n",
       "      <td>https://cms.quantserve.com/dpixel?a=p-n5vvLvRd...</td>\n",
       "      <td>http://www.zeno.org/</td>\n",
       "      <td>3</td>\n",
       "      <td>https://pagead2.googlesyndication.com</td>\n",
       "      <td>[[\"Host\",\"cms.quantserve.com\"],[\"User-Agent\",\"...</td>\n",
       "      <td>GIF</td>\n",
       "      <td>[1, 1]</td>\n",
       "      <td>P</td>\n",
       "      <td>[255, 255, 255, 255]</td>\n",
       "      <td>1</td>\n",
       "      <td>0</td>\n",
       "      <td>[1, 0]</td>\n",
       "    </tr>\n",
       "    <tr>\n",
       "      <th>11153</th>\n",
       "      <td>11</td>\n",
       "      <td>153</td>\n",
       "      <td>https://ag.innovid.com/trk?tid=11711&amp;google_gi...</td>\n",
       "      <td>http://www.zeno.org/</td>\n",
       "      <td>3</td>\n",
       "      <td>https://pagead2.googlesyndication.com</td>\n",
       "      <td>[[\"Host\",\"ag.innovid.com\"],[\"User-Agent\",\"Mozi...</td>\n",
       "      <td>GIF</td>\n",
       "      <td>[1, 1]</td>\n",
       "      <td>P</td>\n",
       "      <td>[255, 255, 255, 255]</td>\n",
       "      <td>1</td>\n",
       "      <td>0</td>\n",
       "      <td>[0, 1]</td>\n",
       "    </tr>\n",
       "    <tr>\n",
       "      <th>11158</th>\n",
       "      <td>11</td>\n",
       "      <td>158</td>\n",
       "      <td>https://cms.quantserve.com/dpixel?a=p-n5vvLvRd...</td>\n",
       "      <td>http://www.zeno.org/</td>\n",
       "      <td>3</td>\n",
       "      <td>https://pagead2.googlesyndication.com</td>\n",
       "      <td>[[\"Host\",\"cms.quantserve.com\"],[\"User-Agent\",\"...</td>\n",
       "      <td>GIF</td>\n",
       "      <td>[1, 1]</td>\n",
       "      <td>P</td>\n",
       "      <td>[255, 255, 255, 255]</td>\n",
       "      <td>1</td>\n",
       "      <td>0</td>\n",
       "      <td>[1, 0]</td>\n",
       "    </tr>\n",
       "    <tr>\n",
       "      <th>11164</th>\n",
       "      <td>11</td>\n",
       "      <td>164</td>\n",
       "      <td>https://ag.innovid.com/trk?tid=11711&amp;google_gi...</td>\n",
       "      <td>http://www.zeno.org/</td>\n",
       "      <td>3</td>\n",
       "      <td>https://pagead2.googlesyndication.com</td>\n",
       "      <td>[[\"Host\",\"ag.innovid.com\"],[\"User-Agent\",\"Mozi...</td>\n",
       "      <td>GIF</td>\n",
       "      <td>[1, 1]</td>\n",
       "      <td>P</td>\n",
       "      <td>[255, 255, 255, 255]</td>\n",
       "      <td>1</td>\n",
       "      <td>0</td>\n",
       "      <td>[0, 1]</td>\n",
       "    </tr>\n",
       "  </tbody>\n",
       "</table>\n",
       "</div>"
      ],
      "text/plain": [
       "      visit_id request_id                                                url  \\\n",
       "5127         5        127  http://googleads.g.doubleclick.net/pagead/view...   \n",
       "5130         5        130  http://www.google-analytics.com/collect?v=1&_v...   \n",
       "5248         5        248  https://www.facebook.com/tr/?id=26283382541559...   \n",
       "5319         5        319  https://www.facebook.com/tr/?id=26283382541559...   \n",
       "5338         5        338  https://www.google-analytics.com/collect?v=1&_...   \n",
       "11107       11        107  https://cms.quantserve.com/dpixel?a=p-n5vvLvRd...   \n",
       "11147       11        147  https://cms.quantserve.com/dpixel?a=p-n5vvLvRd...   \n",
       "11153       11        153  https://ag.innovid.com/trk?tid=11711&google_gi...   \n",
       "11158       11        158  https://cms.quantserve.com/dpixel?a=p-n5vvLvRd...   \n",
       "11164       11        164  https://ag.innovid.com/trk?tid=11711&google_gi...   \n",
       "\n",
       "             first_party_domain label                      triggering_origin  \\\n",
       "5127   http://www.b-travel.com/     3                http://www.b-travel.com   \n",
       "5130   http://www.b-travel.com/     2                http://www.b-travel.com   \n",
       "5248   http://www.b-travel.com/     3                http://www.b-travel.com   \n",
       "5319   http://www.b-travel.com/     3                http://www.b-travel.com   \n",
       "5338   http://www.b-travel.com/     2                http://www.b-travel.com   \n",
       "11107      http://www.zeno.org/     3  https://pagead2.googlesyndication.com   \n",
       "11147      http://www.zeno.org/     3  https://pagead2.googlesyndication.com   \n",
       "11153      http://www.zeno.org/     3  https://pagead2.googlesyndication.com   \n",
       "11158      http://www.zeno.org/     3  https://pagead2.googlesyndication.com   \n",
       "11164      http://www.zeno.org/     3  https://pagead2.googlesyndication.com   \n",
       "\n",
       "                                                 headers img_format img_size  \\\n",
       "5127   [[\"Host\",\"googleads.g.doubleclick.net\"],[\"User...        GIF   [1, 1]   \n",
       "5130   [[\"Host\",\"www.google-analytics.com\"],[\"User-Ag...        GIF   [1, 1]   \n",
       "5248   [[\"Host\",\"www.facebook.com\"],[\"User-Agent\",\"Mo...        GIF   [1, 1]   \n",
       "5319   [[\"Host\",\"www.facebook.com\"],[\"User-Agent\",\"Mo...        GIF   [1, 1]   \n",
       "5338   [[\"Host\",\"www.google-analytics.com\"],[\"User-Ag...        GIF   [1, 1]   \n",
       "11107  [[\"Host\",\"cms.quantserve.com\"],[\"User-Agent\",\"...        GIF   [1, 1]   \n",
       "11147  [[\"Host\",\"cms.quantserve.com\"],[\"User-Agent\",\"...        GIF   [1, 1]   \n",
       "11153  [[\"Host\",\"ag.innovid.com\"],[\"User-Agent\",\"Mozi...        GIF   [1, 1]   \n",
       "11158  [[\"Host\",\"cms.quantserve.com\"],[\"User-Agent\",\"...        GIF   [1, 1]   \n",
       "11164  [[\"Host\",\"ag.innovid.com\"],[\"User-Agent\",\"Mozi...        GIF   [1, 1]   \n",
       "\n",
       "      img_mode            img_colour matched moved blocked  \n",
       "5127         P          [0, 0, 0, 0]       1     0  [1, 1]  \n",
       "5130         P  [255, 255, 255, 255]       1     0  [1, 0]  \n",
       "5248         P          [0, 0, 0, 0]       1     0  [1, 0]  \n",
       "5319         P          [0, 0, 0, 0]       1     0  [1, 0]  \n",
       "5338         P  [255, 255, 255, 255]       1     0  [1, 0]  \n",
       "11107        P  [255, 255, 255, 255]       1     0  [1, 0]  \n",
       "11147        P  [255, 255, 255, 255]       1     0  [1, 0]  \n",
       "11153        P  [255, 255, 255, 255]       1     0  [0, 1]  \n",
       "11158        P  [255, 255, 255, 255]       1     0  [1, 0]  \n",
       "11164        P  [255, 255, 255, 255]       1     0  [0, 1]  "
      ]
     },
     "execution_count": 5,
     "metadata": {},
     "output_type": "execute_result"
    }
   ],
   "source": [
    "pixel=data.transpose()\n",
    "pixel.head(10)"
   ]
  },
  {
   "cell_type": "markdown",
   "id": "a9a5c9b2",
   "metadata": {},
   "source": [
    "# Exploratory Data Analysis"
   ]
  },
  {
   "cell_type": "code",
   "execution_count": 6,
   "id": "3ec485df",
   "metadata": {},
   "outputs": [
    {
     "data": {
      "text/plain": [
       "Index(['visit_id', 'request_id', 'url', 'first_party_domain', 'label',\n",
       "       'triggering_origin', 'headers', 'img_format', 'img_size', 'img_mode',\n",
       "       'img_colour', 'matched', 'moved', 'blocked'],\n",
       "      dtype='object')"
      ]
     },
     "execution_count": 6,
     "metadata": {},
     "output_type": "execute_result"
    }
   ],
   "source": [
    "pixel.columns"
   ]
  },
  {
   "cell_type": "code",
   "execution_count": 7,
   "id": "d28cb23f",
   "metadata": {},
   "outputs": [
    {
     "name": "stdout",
     "output_type": "stream",
     "text": [
      "<class 'pandas.core.frame.DataFrame'>\n",
      "Int64Index: 813162 entries, 5127 to 10380996\n",
      "Data columns (total 14 columns):\n",
      " #   Column              Non-Null Count   Dtype \n",
      "---  ------              --------------   ----- \n",
      " 0   visit_id            813162 non-null  object\n",
      " 1   request_id          813162 non-null  object\n",
      " 2   url                 813162 non-null  object\n",
      " 3   first_party_domain  813162 non-null  object\n",
      " 4   label               813162 non-null  object\n",
      " 5   triggering_origin   813162 non-null  object\n",
      " 6   headers             813162 non-null  object\n",
      " 7   img_format          813162 non-null  object\n",
      " 8   img_size            813162 non-null  object\n",
      " 9   img_mode            813162 non-null  object\n",
      " 10  img_colour          813162 non-null  object\n",
      " 11  matched             813162 non-null  object\n",
      " 12  moved               813162 non-null  object\n",
      " 13  blocked             813162 non-null  object\n",
      "dtypes: object(14)\n",
      "memory usage: 125.3+ MB\n"
     ]
    }
   ],
   "source": [
    "pixel.info()"
   ]
  },
  {
   "cell_type": "markdown",
   "id": "d421a96d",
   "metadata": {},
   "source": [
    "### Missing Values"
   ]
  },
  {
   "cell_type": "code",
   "execution_count": 8,
   "id": "b83f9005",
   "metadata": {},
   "outputs": [
    {
     "data": {
      "text/plain": [
       "visit_id              0\n",
       "request_id            0\n",
       "url                   0\n",
       "first_party_domain    0\n",
       "label                 0\n",
       "triggering_origin     0\n",
       "headers               0\n",
       "img_format            0\n",
       "img_size              0\n",
       "img_mode              0\n",
       "img_colour            0\n",
       "matched               0\n",
       "moved                 0\n",
       "blocked               0\n",
       "dtype: int64"
      ]
     },
     "execution_count": 8,
     "metadata": {},
     "output_type": "execute_result"
    }
   ],
   "source": [
    "pixel.isnull().sum()"
   ]
  },
  {
   "cell_type": "markdown",
   "id": "927de717",
   "metadata": {},
   "source": [
    "### Summary Statistics"
   ]
  },
  {
   "cell_type": "code",
   "execution_count": 9,
   "id": "411c776e",
   "metadata": {},
   "outputs": [
    {
     "data": {
      "text/plain": [
       "pandas.core.frame.DataFrame"
      ]
     },
     "execution_count": 9,
     "metadata": {},
     "output_type": "execute_result"
    }
   ],
   "source": [
    "type(pixel)"
   ]
  },
  {
   "cell_type": "code",
   "execution_count": 10,
   "id": "edbf50ed",
   "metadata": {},
   "outputs": [
    {
     "data": {
      "text/plain": [
       "array([3, 2, 0, 1], dtype=object)"
      ]
     },
     "execution_count": 10,
     "metadata": {},
     "output_type": "execute_result"
    }
   ],
   "source": [
    "pixel['label'].unique()   #etiket verisi"
   ]
  },
  {
   "cell_type": "markdown",
   "id": "4dcc4a0c",
   "metadata": {},
   "source": [
    "visualize the class imbalance in the 'label' column"
   ]
  },
  {
   "cell_type": "code",
   "execution_count": 11,
   "id": "585eec84",
   "metadata": {},
   "outputs": [
    {
     "data": {
      "image/png": "[encoded data removed]",
      "text/plain": [
       "<Figure size 432x288 with 1 Axes>"
      ]
     },
     "metadata": {
      "needs_background": "light"
     },
     "output_type": "display_data"
    }
   ],
   "source": [
    "# Count the occurrences of each label\n",
    "label_counts = pixel['label'].value_counts()\n",
    "\n",
    "# Create a bar plot to visualize class imbalance\n",
    "plt.bar(label_counts.index, label_counts.values)\n",
    "\n",
    "# Adding labels and title\n",
    "plt.xlabel('Label')\n",
    "plt.ylabel('Count')\n",
    "plt.title('Class Imbalance in Label')\n",
    "\n",
    "# Display the plot\n",
    "plt.show()\n"
   ]
  },
  {
   "cell_type": "code",
   "execution_count": 12,
   "id": "35260fbe",
   "metadata": {},
   "outputs": [
    {
     "data": {
      "text/plain": [
       "0    687288\n",
       "3     85976\n",
       "2     39790\n",
       "1       108\n",
       "Name: label, dtype: int64"
      ]
     },
     "execution_count": 12,
     "metadata": {},
     "output_type": "execute_result"
    }
   ],
   "source": [
    "label_counts=pixel['label'].value_counts()\n",
    "label_counts"
   ]
  },
  {
   "cell_type": "code",
   "execution_count": 13,
   "id": "39a9a39e",
   "metadata": {},
   "outputs": [
    {
     "data": {
      "text/plain": [
       "PNG     251940\n",
       "GIF     242640\n",
       "JPEG    241161\n",
       "WEBP     53888\n",
       "ICO      22699\n",
       "CUR        694\n",
       "BMP         90\n",
       "MPO         47\n",
       "TIFF         3\n",
       "Name: img_format, dtype: int64"
      ]
     },
     "execution_count": 13,
     "metadata": {},
     "output_type": "execute_result"
    }
   ],
   "source": [
    "# Count the occurrences of each img_format\n",
    "img_format_counts = pixel['img_format'].value_counts()\n",
    "img_format_counts"
   ]
  },
  {
   "cell_type": "markdown",
   "id": "1c1b9812",
   "metadata": {},
   "source": [
    "Distribution of label column"
   ]
  },
  {
   "cell_type": "code",
   "execution_count": 14,
   "id": "ff577a3d",
   "metadata": {},
   "outputs": [
    {
     "data": {
      "image/png": "[encoded data removed]",
      "text/plain": [
       "<Figure size 432x288 with 1 Axes>"
      ]
     },
     "metadata": {
      "needs_background": "light"
     },
     "output_type": "display_data"
    }
   ],
   "source": [
    "# Plotting the histogram\n",
    "plt.hist(pixel['label'], bins='auto', edgecolor='black')\n",
    "\n",
    "# Adding labels and title\n",
    "plt.xlabel('Label')\n",
    "plt.ylabel('Frequency')\n",
    "plt.title('Distribution of Labels')\n",
    "\n",
    "# Display the plot\n",
    "plt.show()"
   ]
  },
  {
   "cell_type": "markdown",
   "id": "69714a60",
   "metadata": {},
   "source": [
    "Relationship between Label and Blocked"
   ]
  },
  {
   "cell_type": "code",
   "execution_count": 15,
   "id": "935d0947",
   "metadata": {},
   "outputs": [
    {
     "data": {
      "image/png": "[encoded data removed]",
      "text/plain": [
       "<Figure size 432x288 with 1 Axes>"
      ]
     },
     "metadata": {
      "needs_background": "light"
     },
     "output_type": "display_data"
    }
   ],
   "source": [
    "# Create a new dataframe with 'label' and 'blocked' columns\n",
    "pixel_plot = pixel[['label', 'blocked']].copy()\n",
    "\n",
    "# Explode the 'blocked' column to create separate columns for each value in the list\n",
    "pixel_plot = pixel_plot.explode('blocked')\n",
    "\n",
    "# Group the data by 'label' and 'blocked' and count the occurrences\n",
    "pixel_plot = pixel_plot.groupby(['label', 'blocked']).size().unstack()\n",
    "\n",
    "# Plot the stacked bar plot\n",
    "pixel_plot.plot(kind='bar', stacked=True)\n",
    "\n",
    "# Adding labels and title\n",
    "plt.xlabel('Label')\n",
    "plt.ylabel('Count')\n",
    "plt.title('Relationship between Label and Blocked')\n",
    "\n",
    "# Display the plot\n",
    "plt.show()\n"
   ]
  },
  {
   "cell_type": "markdown",
   "id": "61f5d52e",
   "metadata": {},
   "source": [
    "Correlation Matrix"
   ]
  },
  {
   "cell_type": "code",
   "execution_count": 16,
   "id": "8078d798",
   "metadata": {},
   "outputs": [
    {
     "name": "stdout",
     "output_type": "stream",
     "text": [
      "                 img_size_width  img_size_height\n",
      "img_size_width         1.000000         0.809367\n",
      "img_size_height        0.809367         1.000000\n"
     ]
    }
   ],
   "source": [
    "# Convert img_size column from list-type to separate columns\n",
    "pixel['img_size_width'] = pixel['img_size'].apply(lambda x: x[0])\n",
    "pixel['img_size_height'] = pixel['img_size'].apply(lambda x: x[1])\n",
    "\n",
    "# Select the relevant numeric columns\n",
    "numeric_columns = ['visit_id', 'request_id', 'label', 'img_size_width', 'img_size_height']\n",
    "\n",
    "# Compute the correlation matrix\n",
    "correlation_matrix = pixel[numeric_columns].corr()\n",
    "\n",
    "# Display the correlation matrix\n",
    "print(correlation_matrix)"
   ]
  },
  {
   "cell_type": "markdown",
   "id": "1bca6768",
   "metadata": {},
   "source": [
    "Bar plot showing the distribution of different values in categorical variables"
   ]
  },
  {
   "cell_type": "code",
   "execution_count": 17,
   "id": "b4b60835",
   "metadata": {},
   "outputs": [],
   "source": [
    "\n",
    "# Select the categorical variables\n",
    "#categorical_columns = ['first_party_domain', 'triggering_origin', 'img_format', 'img_mode', 'blocked']\n",
    "\n",
    "# Loop through each categorical variable and create bar plots\n",
    "#for column in categorical_columns:\n",
    "#    plt.figure(figsize=(10, 6))\n",
    "#    sns.countplot(data=pixel, x=column)\n",
    "#    plt.xlabel(column)\n",
    "#    plt.ylabel('Count')\n",
    "#    plt.title(f'Distribution of {column}')\n",
    "#    plt.xticks(rotation=45)\n",
    "#    plt.show()"
   ]
  },
  {
   "cell_type": "markdown",
   "id": "39f5d74a",
   "metadata": {},
   "source": [
    "Box plot to identify outliers in numeric variables"
   ]
  },
  {
   "cell_type": "code",
   "execution_count": 18,
   "id": "2765b242",
   "metadata": {},
   "outputs": [],
   "source": [
    "# Select the numeric columns for which you want to create box plots\n",
    "#numeric_columns = ['label', 'request_id', 'img_size_width', 'img_size_height']\n",
    "\n",
    "# Create box plots for each numeric column\n",
    "#for column in numeric_columns:\n",
    "#    plt.figure(figsize=(8, 6))\n",
    "#    sns.boxplot(data=pixel, y=column)\n",
    "#    plt.ylabel(column)\n",
    "#    plt.title(f'Box Plot of {column}')\n",
    "#    plt.show()"
   ]
  },
  {
   "cell_type": "code",
   "execution_count": 19,
   "id": "71033abc",
   "metadata": {},
   "outputs": [
    {
     "name": "stdout",
     "output_type": "stream",
     "text": [
      "     visit_id request_id                                                url  \\\n",
      "5127        5        127  http://googleads.g.doubleclick.net/pagead/view...   \n",
      "5130        5        130  http://www.google-analytics.com/collect?v=1&_v...   \n",
      "5248        5        248  https://www.facebook.com/tr/?id=26283382541559...   \n",
      "5319        5        319  https://www.facebook.com/tr/?id=26283382541559...   \n",
      "5338        5        338  https://www.google-analytics.com/collect?v=1&_...   \n",
      "\n",
      "            first_party_domain label        triggering_origin  \\\n",
      "5127  http://www.b-travel.com/     3  http://www.b-travel.com   \n",
      "5130  http://www.b-travel.com/     2  http://www.b-travel.com   \n",
      "5248  http://www.b-travel.com/     3  http://www.b-travel.com   \n",
      "5319  http://www.b-travel.com/     3  http://www.b-travel.com   \n",
      "5338  http://www.b-travel.com/     2  http://www.b-travel.com   \n",
      "\n",
      "                                                headers img_format img_size  \\\n",
      "5127  [[\"Host\",\"googleads.g.doubleclick.net\"],[\"User...        GIF   [1, 1]   \n",
      "5130  [[\"Host\",\"www.google-analytics.com\"],[\"User-Ag...        GIF   [1, 1]   \n",
      "5248  [[\"Host\",\"www.facebook.com\"],[\"User-Agent\",\"Mo...        GIF   [1, 1]   \n",
      "5319  [[\"Host\",\"www.facebook.com\"],[\"User-Agent\",\"Mo...        GIF   [1, 1]   \n",
      "5338  [[\"Host\",\"www.google-analytics.com\"],[\"User-Ag...        GIF   [1, 1]   \n",
      "\n",
      "     img_mode            img_colour matched moved blocked  img_size_width  \\\n",
      "5127        P          [0, 0, 0, 0]       1     0  [1, 1]               1   \n",
      "5130        P  [255, 255, 255, 255]       1     0  [1, 0]               1   \n",
      "5248        P          [0, 0, 0, 0]       1     0  [1, 0]               1   \n",
      "5319        P          [0, 0, 0, 0]       1     0  [1, 0]               1   \n",
      "5338        P  [255, 255, 255, 255]       1     0  [1, 0]               1   \n",
      "\n",
      "      img_size_height  \n",
      "5127                1  \n",
      "5130                1  \n",
      "5248                1  \n",
      "5319                1  \n",
      "5338                1  \n"
     ]
    }
   ],
   "source": [
    "# Drop columns that are not needed\n",
    "columns_to_drop = ['visit_id', 'request_id', 'blocked', 'moved']\n",
    "print(pixel.head())"
   ]
  },
  {
   "cell_type": "markdown",
   "id": "078468d9",
   "metadata": {},
   "source": [
    "# Feature Engineering"
   ]
  },
  {
   "cell_type": "markdown",
   "id": "31bd5242",
   "metadata": {},
   "source": [
    "### Top Netlocs"
   ]
  },
  {
   "cell_type": "code",
   "execution_count": 20,
   "id": "624db0d0",
   "metadata": {},
   "outputs": [
    {
     "name": "stdout",
     "output_type": "stream",
     "text": [
      "     visit_id request_id                                                url  \\\n",
      "5127        5        127  http://googleads.g.doubleclick.net/pagead/view...   \n",
      "5130        5        130  http://www.google-analytics.com/collect?v=1&_v...   \n",
      "5248        5        248  https://www.facebook.com/tr/?id=26283382541559...   \n",
      "5319        5        319  https://www.facebook.com/tr/?id=26283382541559...   \n",
      "5338        5        338  https://www.google-analytics.com/collect?v=1&_...   \n",
      "\n",
      "            first_party_domain label        triggering_origin  \\\n",
      "5127  http://www.b-travel.com/     3  http://www.b-travel.com   \n",
      "5130  http://www.b-travel.com/     2  http://www.b-travel.com   \n",
      "5248  http://www.b-travel.com/     3  http://www.b-travel.com   \n",
      "5319  http://www.b-travel.com/     3  http://www.b-travel.com   \n",
      "5338  http://www.b-travel.com/     2  http://www.b-travel.com   \n",
      "\n",
      "                                                headers img_format img_size  \\\n",
      "5127  [[\"Host\",\"googleads.g.doubleclick.net\"],[\"User...        GIF   [1, 1]   \n",
      "5130  [[\"Host\",\"www.google-analytics.com\"],[\"User-Ag...        GIF   [1, 1]   \n",
      "5248  [[\"Host\",\"www.facebook.com\"],[\"User-Agent\",\"Mo...        GIF   [1, 1]   \n",
      "5319  [[\"Host\",\"www.facebook.com\"],[\"User-Agent\",\"Mo...        GIF   [1, 1]   \n",
      "5338  [[\"Host\",\"www.google-analytics.com\"],[\"User-Ag...        GIF   [1, 1]   \n",
      "\n",
      "     img_mode            img_colour matched moved blocked  img_size_width  \\\n",
      "5127        P          [0, 0, 0, 0]       1     0  [1, 1]               1   \n",
      "5130        P  [255, 255, 255, 255]       1     0  [1, 0]               1   \n",
      "5248        P          [0, 0, 0, 0]       1     0  [1, 0]               1   \n",
      "5319        P          [0, 0, 0, 0]       1     0  [1, 0]               1   \n",
      "5338        P  [255, 255, 255, 255]       1     0  [1, 0]               1   \n",
      "\n",
      "      img_size_height                       netloc  \\\n",
      "5127                1  googleads.g.doubleclick.net   \n",
      "5130                1     www.google-analytics.com   \n",
      "5248                1             www.facebook.com   \n",
      "5319                1             www.facebook.com   \n",
      "5338                1     www.google-analytics.com   \n",
      "\n",
      "                                           query_params  \\\n",
      "5127  {'value': ['0'], 'guid': ['ON'], 'script': ['0']}   \n",
      "5130  {'v': ['1'], '_v': ['j96'], 'a': ['436912717']...   \n",
      "5248  {'id': ['2628338254155974'], 'ev': ['PageView'...   \n",
      "5319  {'id': ['2628338254155974'], 'ev': ['Microdata...   \n",
      "5338  {'v': ['1'], '_v': ['j96'], 'a': ['436912717']...   \n",
      "\n",
      "                                         path_pieces  \n",
      "5127  [, pagead, viewthroughconversion, 948270386, ]  \n",
      "5130                                     [, collect]  \n",
      "5248                                        [, tr, ]  \n",
      "5319                                        [, tr, ]  \n",
      "5338                                     [, collect]  \n"
     ]
    }
   ],
   "source": [
    "from urllib.parse import urlparse, parse_qs\n",
    "\n",
    "\n",
    "# Extract netloc, query parameter, and path pieces from the 'url' column\n",
    "pixel['netloc'] = pixel['url'].apply(lambda x: urlparse(x).netloc)\n",
    "pixel['query_params'] = pixel['url'].apply(lambda x: parse_qs(urlparse(x).query))\n",
    "pixel['path_pieces'] = pixel['url'].apply(lambda x: urlparse(x).path.split('/'))\n",
    "\n",
    "# Display the updated dataset\n",
    "print(pixel.head())"
   ]
  },
  {
   "cell_type": "markdown",
   "id": "5fa3587a",
   "metadata": {},
   "source": [
    "One-hot vector of the most common netlocs -size=500"
   ]
  },
  {
   "cell_type": "code",
   "execution_count": 21,
   "id": "4aeb9b61",
   "metadata": {},
   "outputs": [],
   "source": [
    "from sklearn.preprocessing import OneHotEncoder\n"
   ]
  },
  {
   "cell_type": "code",
   "execution_count": 22,
   "id": "0a6eb3e6",
   "metadata": {},
   "outputs": [
    {
     "data": {
      "text/plain": [
       "5127                  googleads.g.doubleclick.net\n",
       "5130                     www.google-analytics.com\n",
       "5248                             www.facebook.com\n",
       "5319                             www.facebook.com\n",
       "5338                     www.google-analytics.com\n",
       "                            ...                  \n",
       "10380973                     adservice.google.com\n",
       "10380974                     adservice.google.com\n",
       "10380975                           www.google.com\n",
       "10380976                            www.google.nl\n",
       "10380996    267425845561726.webpush.freshchat.com\n",
       "Name: netloc, Length: 813162, dtype: object"
      ]
     },
     "execution_count": 22,
     "metadata": {},
     "output_type": "execute_result"
    }
   ],
   "source": [
    "# Extract the netloc from the 'url' column\n",
    "pixel['netloc'] = pixel['url'].apply(lambda x: x.split('/')[2])\n",
    "pixel['netloc']"
   ]
  },
  {
   "cell_type": "code",
   "execution_count": 23,
   "id": "70607427",
   "metadata": {},
   "outputs": [
    {
     "data": {
      "text/html": [
       "<div>\n",
       "<style scoped>\n",
       "    .dataframe tbody tr th:only-of-type {\n",
       "        vertical-align: middle;\n",
       "    }\n",
       "\n",
       "    .dataframe tbody tr th {\n",
       "        vertical-align: top;\n",
       "    }\n",
       "\n",
       "    .dataframe thead th {\n",
       "        text-align: right;\n",
       "    }\n",
       "</style>\n",
       "<table border=\"1\" class=\"dataframe\">\n",
       "  <thead>\n",
       "    <tr style=\"text-align: right;\">\n",
       "      <th></th>\n",
       "      <th>netloc_133886.global.siteimproveanalytics.io</th>\n",
       "      <th>netloc_OOV</th>\n",
       "      <th>netloc_abcedu.online</th>\n",
       "      <th>netloc_abs.twimg.com</th>\n",
       "      <th>netloc_ad.360yield.com</th>\n",
       "      <th>netloc_ad.as.amanad.adtdp.com</th>\n",
       "      <th>netloc_ad.doubleclick.net</th>\n",
       "      <th>netloc_ad.tpmn.co.kr</th>\n",
       "      <th>netloc_adcombo.com</th>\n",
       "      <th>netloc_ade.googlesyndication.com</th>\n",
       "      <th>...</th>\n",
       "      <th>netloc_www.werkmax.de</th>\n",
       "      <th>netloc_www.wvnet.at</th>\n",
       "      <th>netloc_www.yorkshiretea.co.uk</th>\n",
       "      <th>netloc_www.zeitzeichen.net</th>\n",
       "      <th>netloc_www.zen-diamond.de</th>\n",
       "      <th>netloc_www.zenick.it</th>\n",
       "      <th>netloc_www.zm-online.de</th>\n",
       "      <th>netloc_x.bidswitch.net</th>\n",
       "      <th>netloc_yt3.ggpht.com</th>\n",
       "      <th>netloc_zilver.nl</th>\n",
       "    </tr>\n",
       "  </thead>\n",
       "  <tbody>\n",
       "    <tr>\n",
       "      <th>0</th>\n",
       "      <td>0.0</td>\n",
       "      <td>0.0</td>\n",
       "      <td>0.0</td>\n",
       "      <td>0.0</td>\n",
       "      <td>0.0</td>\n",
       "      <td>0.0</td>\n",
       "      <td>0.0</td>\n",
       "      <td>0.0</td>\n",
       "      <td>0.0</td>\n",
       "      <td>0.0</td>\n",
       "      <td>...</td>\n",
       "      <td>0.0</td>\n",
       "      <td>0.0</td>\n",
       "      <td>0.0</td>\n",
       "      <td>0.0</td>\n",
       "      <td>0.0</td>\n",
       "      <td>0.0</td>\n",
       "      <td>0.0</td>\n",
       "      <td>0.0</td>\n",
       "      <td>0.0</td>\n",
       "      <td>0.0</td>\n",
       "    </tr>\n",
       "    <tr>\n",
       "      <th>1</th>\n",
       "      <td>0.0</td>\n",
       "      <td>0.0</td>\n",
       "      <td>0.0</td>\n",
       "      <td>0.0</td>\n",
       "      <td>0.0</td>\n",
       "      <td>0.0</td>\n",
       "      <td>0.0</td>\n",
       "      <td>0.0</td>\n",
       "      <td>0.0</td>\n",
       "      <td>0.0</td>\n",
       "      <td>...</td>\n",
       "      <td>0.0</td>\n",
       "      <td>0.0</td>\n",
       "      <td>0.0</td>\n",
       "      <td>0.0</td>\n",
       "      <td>0.0</td>\n",
       "      <td>0.0</td>\n",
       "      <td>0.0</td>\n",
       "      <td>0.0</td>\n",
       "      <td>0.0</td>\n",
       "      <td>0.0</td>\n",
       "    </tr>\n",
       "    <tr>\n",
       "      <th>2</th>\n",
       "      <td>0.0</td>\n",
       "      <td>0.0</td>\n",
       "      <td>0.0</td>\n",
       "      <td>0.0</td>\n",
       "      <td>0.0</td>\n",
       "      <td>0.0</td>\n",
       "      <td>0.0</td>\n",
       "      <td>0.0</td>\n",
       "      <td>0.0</td>\n",
       "      <td>0.0</td>\n",
       "      <td>...</td>\n",
       "      <td>0.0</td>\n",
       "      <td>0.0</td>\n",
       "      <td>0.0</td>\n",
       "      <td>0.0</td>\n",
       "      <td>0.0</td>\n",
       "      <td>0.0</td>\n",
       "      <td>0.0</td>\n",
       "      <td>0.0</td>\n",
       "      <td>0.0</td>\n",
       "      <td>0.0</td>\n",
       "    </tr>\n",
       "    <tr>\n",
       "      <th>3</th>\n",
       "      <td>0.0</td>\n",
       "      <td>0.0</td>\n",
       "      <td>0.0</td>\n",
       "      <td>0.0</td>\n",
       "      <td>0.0</td>\n",
       "      <td>0.0</td>\n",
       "      <td>0.0</td>\n",
       "      <td>0.0</td>\n",
       "      <td>0.0</td>\n",
       "      <td>0.0</td>\n",
       "      <td>...</td>\n",
       "      <td>0.0</td>\n",
       "      <td>0.0</td>\n",
       "      <td>0.0</td>\n",
       "      <td>0.0</td>\n",
       "      <td>0.0</td>\n",
       "      <td>0.0</td>\n",
       "      <td>0.0</td>\n",
       "      <td>0.0</td>\n",
       "      <td>0.0</td>\n",
       "      <td>0.0</td>\n",
       "    </tr>\n",
       "    <tr>\n",
       "      <th>4</th>\n",
       "      <td>0.0</td>\n",
       "      <td>0.0</td>\n",
       "      <td>0.0</td>\n",
       "      <td>0.0</td>\n",
       "      <td>0.0</td>\n",
       "      <td>0.0</td>\n",
       "      <td>0.0</td>\n",
       "      <td>0.0</td>\n",
       "      <td>0.0</td>\n",
       "      <td>0.0</td>\n",
       "      <td>...</td>\n",
       "      <td>0.0</td>\n",
       "      <td>0.0</td>\n",
       "      <td>0.0</td>\n",
       "      <td>0.0</td>\n",
       "      <td>0.0</td>\n",
       "      <td>0.0</td>\n",
       "      <td>0.0</td>\n",
       "      <td>0.0</td>\n",
       "      <td>0.0</td>\n",
       "      <td>0.0</td>\n",
       "    </tr>\n",
       "    <tr>\n",
       "      <th>...</th>\n",
       "      <td>...</td>\n",
       "      <td>...</td>\n",
       "      <td>...</td>\n",
       "      <td>...</td>\n",
       "      <td>...</td>\n",
       "      <td>...</td>\n",
       "      <td>...</td>\n",
       "      <td>...</td>\n",
       "      <td>...</td>\n",
       "      <td>...</td>\n",
       "      <td>...</td>\n",
       "      <td>...</td>\n",
       "      <td>...</td>\n",
       "      <td>...</td>\n",
       "      <td>...</td>\n",
       "      <td>...</td>\n",
       "      <td>...</td>\n",
       "      <td>...</td>\n",
       "      <td>...</td>\n",
       "      <td>...</td>\n",
       "      <td>...</td>\n",
       "    </tr>\n",
       "    <tr>\n",
       "      <th>813157</th>\n",
       "      <td>0.0</td>\n",
       "      <td>0.0</td>\n",
       "      <td>0.0</td>\n",
       "      <td>0.0</td>\n",
       "      <td>0.0</td>\n",
       "      <td>0.0</td>\n",
       "      <td>0.0</td>\n",
       "      <td>0.0</td>\n",
       "      <td>0.0</td>\n",
       "      <td>0.0</td>\n",
       "      <td>...</td>\n",
       "      <td>0.0</td>\n",
       "      <td>0.0</td>\n",
       "      <td>0.0</td>\n",
       "      <td>0.0</td>\n",
       "      <td>0.0</td>\n",
       "      <td>0.0</td>\n",
       "      <td>0.0</td>\n",
       "      <td>0.0</td>\n",
       "      <td>0.0</td>\n",
       "      <td>0.0</td>\n",
       "    </tr>\n",
       "    <tr>\n",
       "      <th>813158</th>\n",
       "      <td>0.0</td>\n",
       "      <td>0.0</td>\n",
       "      <td>0.0</td>\n",
       "      <td>0.0</td>\n",
       "      <td>0.0</td>\n",
       "      <td>0.0</td>\n",
       "      <td>0.0</td>\n",
       "      <td>0.0</td>\n",
       "      <td>0.0</td>\n",
       "      <td>0.0</td>\n",
       "      <td>...</td>\n",
       "      <td>0.0</td>\n",
       "      <td>0.0</td>\n",
       "      <td>0.0</td>\n",
       "      <td>0.0</td>\n",
       "      <td>0.0</td>\n",
       "      <td>0.0</td>\n",
       "      <td>0.0</td>\n",
       "      <td>0.0</td>\n",
       "      <td>0.0</td>\n",
       "      <td>0.0</td>\n",
       "    </tr>\n",
       "    <tr>\n",
       "      <th>813159</th>\n",
       "      <td>0.0</td>\n",
       "      <td>0.0</td>\n",
       "      <td>0.0</td>\n",
       "      <td>0.0</td>\n",
       "      <td>0.0</td>\n",
       "      <td>0.0</td>\n",
       "      <td>0.0</td>\n",
       "      <td>0.0</td>\n",
       "      <td>0.0</td>\n",
       "      <td>0.0</td>\n",
       "      <td>...</td>\n",
       "      <td>0.0</td>\n",
       "      <td>0.0</td>\n",
       "      <td>0.0</td>\n",
       "      <td>0.0</td>\n",
       "      <td>0.0</td>\n",
       "      <td>0.0</td>\n",
       "      <td>0.0</td>\n",
       "      <td>0.0</td>\n",
       "      <td>0.0</td>\n",
       "      <td>0.0</td>\n",
       "    </tr>\n",
       "    <tr>\n",
       "      <th>813160</th>\n",
       "      <td>0.0</td>\n",
       "      <td>0.0</td>\n",
       "      <td>0.0</td>\n",
       "      <td>0.0</td>\n",
       "      <td>0.0</td>\n",
       "      <td>0.0</td>\n",
       "      <td>0.0</td>\n",
       "      <td>0.0</td>\n",
       "      <td>0.0</td>\n",
       "      <td>0.0</td>\n",
       "      <td>...</td>\n",
       "      <td>0.0</td>\n",
       "      <td>0.0</td>\n",
       "      <td>0.0</td>\n",
       "      <td>0.0</td>\n",
       "      <td>0.0</td>\n",
       "      <td>0.0</td>\n",
       "      <td>0.0</td>\n",
       "      <td>0.0</td>\n",
       "      <td>0.0</td>\n",
       "      <td>0.0</td>\n",
       "    </tr>\n",
       "    <tr>\n",
       "      <th>813161</th>\n",
       "      <td>0.0</td>\n",
       "      <td>1.0</td>\n",
       "      <td>0.0</td>\n",
       "      <td>0.0</td>\n",
       "      <td>0.0</td>\n",
       "      <td>0.0</td>\n",
       "      <td>0.0</td>\n",
       "      <td>0.0</td>\n",
       "      <td>0.0</td>\n",
       "      <td>0.0</td>\n",
       "      <td>...</td>\n",
       "      <td>0.0</td>\n",
       "      <td>0.0</td>\n",
       "      <td>0.0</td>\n",
       "      <td>0.0</td>\n",
       "      <td>0.0</td>\n",
       "      <td>0.0</td>\n",
       "      <td>0.0</td>\n",
       "      <td>0.0</td>\n",
       "      <td>0.0</td>\n",
       "      <td>0.0</td>\n",
       "    </tr>\n",
       "  </tbody>\n",
       "</table>\n",
       "<p>813162 rows × 501 columns</p>\n",
       "</div>"
      ],
      "text/plain": [
       "        netloc_133886.global.siteimproveanalytics.io  netloc_OOV  \\\n",
       "0                                                0.0         0.0   \n",
       "1                                                0.0         0.0   \n",
       "2                                                0.0         0.0   \n",
       "3                                                0.0         0.0   \n",
       "4                                                0.0         0.0   \n",
       "...                                              ...         ...   \n",
       "813157                                           0.0         0.0   \n",
       "813158                                           0.0         0.0   \n",
       "813159                                           0.0         0.0   \n",
       "813160                                           0.0         0.0   \n",
       "813161                                           0.0         1.0   \n",
       "\n",
       "        netloc_abcedu.online  netloc_abs.twimg.com  netloc_ad.360yield.com  \\\n",
       "0                        0.0                   0.0                     0.0   \n",
       "1                        0.0                   0.0                     0.0   \n",
       "2                        0.0                   0.0                     0.0   \n",
       "3                        0.0                   0.0                     0.0   \n",
       "4                        0.0                   0.0                     0.0   \n",
       "...                      ...                   ...                     ...   \n",
       "813157                   0.0                   0.0                     0.0   \n",
       "813158                   0.0                   0.0                     0.0   \n",
       "813159                   0.0                   0.0                     0.0   \n",
       "813160                   0.0                   0.0                     0.0   \n",
       "813161                   0.0                   0.0                     0.0   \n",
       "\n",
       "        netloc_ad.as.amanad.adtdp.com  netloc_ad.doubleclick.net  \\\n",
       "0                                 0.0                        0.0   \n",
       "1                                 0.0                        0.0   \n",
       "2                                 0.0                        0.0   \n",
       "3                                 0.0                        0.0   \n",
       "4                                 0.0                        0.0   \n",
       "...                               ...                        ...   \n",
       "813157                            0.0                        0.0   \n",
       "813158                            0.0                        0.0   \n",
       "813159                            0.0                        0.0   \n",
       "813160                            0.0                        0.0   \n",
       "813161                            0.0                        0.0   \n",
       "\n",
       "        netloc_ad.tpmn.co.kr  netloc_adcombo.com  \\\n",
       "0                        0.0                 0.0   \n",
       "1                        0.0                 0.0   \n",
       "2                        0.0                 0.0   \n",
       "3                        0.0                 0.0   \n",
       "4                        0.0                 0.0   \n",
       "...                      ...                 ...   \n",
       "813157                   0.0                 0.0   \n",
       "813158                   0.0                 0.0   \n",
       "813159                   0.0                 0.0   \n",
       "813160                   0.0                 0.0   \n",
       "813161                   0.0                 0.0   \n",
       "\n",
       "        netloc_ade.googlesyndication.com  ...  netloc_www.werkmax.de  \\\n",
       "0                                    0.0  ...                    0.0   \n",
       "1                                    0.0  ...                    0.0   \n",
       "2                                    0.0  ...                    0.0   \n",
       "3                                    0.0  ...                    0.0   \n",
       "4                                    0.0  ...                    0.0   \n",
       "...                                  ...  ...                    ...   \n",
       "813157                               0.0  ...                    0.0   \n",
       "813158                               0.0  ...                    0.0   \n",
       "813159                               0.0  ...                    0.0   \n",
       "813160                               0.0  ...                    0.0   \n",
       "813161                               0.0  ...                    0.0   \n",
       "\n",
       "        netloc_www.wvnet.at  netloc_www.yorkshiretea.co.uk  \\\n",
       "0                       0.0                            0.0   \n",
       "1                       0.0                            0.0   \n",
       "2                       0.0                            0.0   \n",
       "3                       0.0                            0.0   \n",
       "4                       0.0                            0.0   \n",
       "...                     ...                            ...   \n",
       "813157                  0.0                            0.0   \n",
       "813158                  0.0                            0.0   \n",
       "813159                  0.0                            0.0   \n",
       "813160                  0.0                            0.0   \n",
       "813161                  0.0                            0.0   \n",
       "\n",
       "        netloc_www.zeitzeichen.net  netloc_www.zen-diamond.de  \\\n",
       "0                              0.0                        0.0   \n",
       "1                              0.0                        0.0   \n",
       "2                              0.0                        0.0   \n",
       "3                              0.0                        0.0   \n",
       "4                              0.0                        0.0   \n",
       "...                            ...                        ...   \n",
       "813157                         0.0                        0.0   \n",
       "813158                         0.0                        0.0   \n",
       "813159                         0.0                        0.0   \n",
       "813160                         0.0                        0.0   \n",
       "813161                         0.0                        0.0   \n",
       "\n",
       "        netloc_www.zenick.it  netloc_www.zm-online.de  netloc_x.bidswitch.net  \\\n",
       "0                        0.0                      0.0                     0.0   \n",
       "1                        0.0                      0.0                     0.0   \n",
       "2                        0.0                      0.0                     0.0   \n",
       "3                        0.0                      0.0                     0.0   \n",
       "4                        0.0                      0.0                     0.0   \n",
       "...                      ...                      ...                     ...   \n",
       "813157                   0.0                      0.0                     0.0   \n",
       "813158                   0.0                      0.0                     0.0   \n",
       "813159                   0.0                      0.0                     0.0   \n",
       "813160                   0.0                      0.0                     0.0   \n",
       "813161                   0.0                      0.0                     0.0   \n",
       "\n",
       "        netloc_yt3.ggpht.com  netloc_zilver.nl  \n",
       "0                        0.0               0.0  \n",
       "1                        0.0               0.0  \n",
       "2                        0.0               0.0  \n",
       "3                        0.0               0.0  \n",
       "4                        0.0               0.0  \n",
       "...                      ...               ...  \n",
       "813157                   0.0               0.0  \n",
       "813158                   0.0               0.0  \n",
       "813159                   0.0               0.0  \n",
       "813160                   0.0               0.0  \n",
       "813161                   0.0               0.0  \n",
       "\n",
       "[813162 rows x 501 columns]"
      ]
     },
     "execution_count": 23,
     "metadata": {},
     "output_type": "execute_result"
    }
   ],
   "source": [
    "#import sklearn one-hot encoder\n",
    "from sklearn.preprocessing import OneHotEncoder\n",
    "\n",
    "\n",
    "\n",
    "## Extract netloc from URL using strip '/'\n",
    "pixel['netloc'] = pixel['url'].apply(lambda x: x.split('/')[2])\n",
    "\n",
    "# Get the top 500 netlocs\n",
    "top_netlocs = pixel['netloc'].value_counts().head(500).index.tolist()\n",
    "\n",
    "# Replace netlocs not in top 500 with 'OOV'\n",
    "pixel.loc[~pixel['netloc'].isin(top_netlocs), 'netloc'] = 'OOV'\n",
    "\n",
    "# Perform one-hot encoding\n",
    "encoder = OneHotEncoder(handle_unknown='ignore')\n",
    "encoded_netloc = encoder.fit_transform(pixel[['netloc']])\n",
    "\n",
    "# Create a DataFrame from the encoded features\n",
    "encoded_df = pd.DataFrame(encoded_netloc.toarray(), columns=encoder.get_feature_names_out(['netloc']))\n",
    "encoded_df\n",
    "# Concatenate the original DataFrame with the encoded DataFrame\n",
    "#pixel_encoded = pd.concat([pixel, encoded_df], axis=1)\n",
    "\n",
    "# Drop the 'url' and 'netloc' columns\n",
    "#pixel_encoded.drop(['url', 'netloc'], axis=1, inplace=True)"
   ]
  },
  {
   "cell_type": "markdown",
   "id": "b9579c0c",
   "metadata": {},
   "source": [
    "### Top Query"
   ]
  },
  {
   "cell_type": "markdown",
   "id": "9a35cc9b",
   "metadata": {},
   "source": [
    "Multiple-hot vector of the most common query parameters"
   ]
  },
  {
   "cell_type": "code",
   "execution_count": 24,
   "id": "64580d1f",
   "metadata": {},
   "outputs": [
    {
     "name": "stdout",
     "output_type": "stream",
     "text": [
      "        0    1    2    3    4    5    6    7    8    9    ...  490  491  492  \\\n",
      "0       0.0  0.0  0.0  0.0  0.0  0.0  0.0  0.0  0.0  0.0  ...  0.0  0.0  0.0   \n",
      "1       0.0  0.0  0.0  0.0  0.0  0.0  0.0  0.0  0.0  0.0  ...  0.0  0.0  0.0   \n",
      "2       0.0  0.0  0.0 -1.0  0.0  0.0  0.0  0.0  0.0  0.0  ...  0.0  0.0  0.0   \n",
      "3       0.0  0.0  0.0 -1.0  0.0  0.0  0.0  0.0  0.0  0.0  ...  0.0  0.0  0.0   \n",
      "4       0.0  0.0  0.0  0.0  0.0  0.0  0.0  0.0  0.0  0.0  ...  0.0  0.0  0.0   \n",
      "...     ...  ...  ...  ...  ...  ...  ...  ...  ...  ...  ...  ...  ...  ...   \n",
      "813157  0.0  0.0  0.0  0.0  0.0  0.0  0.0  0.0  0.0  0.0  ...  0.0  0.0  0.0   \n",
      "813158  0.0  0.0  0.0  0.0  0.0  0.0  0.0  0.0  0.0  0.0  ...  0.0  0.0  0.0   \n",
      "813159  0.0  0.0  0.0  0.0  0.0  0.0  0.0  0.0  0.0  0.0  ...  0.0  0.0  0.0   \n",
      "813160  0.0  0.0  0.0  0.0  0.0  0.0  0.0  0.0  0.0  0.0  ...  0.0  0.0  0.0   \n",
      "813161  0.0  0.0  0.0  0.0  0.0  0.0  0.0  0.0  0.0  0.0  ...  0.0  0.0  0.0   \n",
      "\n",
      "        493  494  495  496  497  498  499  \n",
      "0       0.0  0.0  0.0  0.0  0.0  0.0  0.0  \n",
      "1       0.0  0.0  0.0  0.0  0.0  0.0  0.0  \n",
      "2       0.0  0.0  0.0  0.0  0.0  0.0  0.0  \n",
      "3       0.0  0.0  0.0  0.0  0.0  0.0  0.0  \n",
      "4       0.0  0.0  0.0  0.0  0.0  0.0  0.0  \n",
      "...     ...  ...  ...  ...  ...  ...  ...  \n",
      "813157  0.0  0.0  0.0  0.0  0.0  0.0  0.0  \n",
      "813158  0.0  0.0  0.0  0.0  0.0  0.0  0.0  \n",
      "813159  0.0  0.0  0.0  0.0  0.0  0.0  0.0  \n",
      "813160  0.0  0.0  0.0  0.0  0.0  0.0  0.0  \n",
      "813161  0.0  0.0  0.0  0.0  0.0  0.0  0.0  \n",
      "\n",
      "[813162 rows x 500 columns]\n"
     ]
    }
   ],
   "source": [
    "from sklearn.feature_extraction import FeatureHasher\n",
    "import pandas as pd\n",
    "\n",
    "query_params = pixel['query_params']\n",
    "param_counts = {}\n",
    "for params in query_params:\n",
    "    for param in params.keys():\n",
    "        if param in param_counts:\n",
    "            param_counts[param] += 1\n",
    "        else:\n",
    "            param_counts[param] = 1\n",
    "\n",
    "top_params = sorted(param_counts, key=param_counts.get, reverse=True)[:500]\n",
    "oov_param = 'OOV'\n",
    "pixel['query_params'] = pixel['query_params'].apply(lambda params: {param: param if param in top_params else oov_param for param in params.keys()})\n",
    "# Flatten the modified query_params column into a list of dictionaries\n",
    "modified_query_params = pixel['query_params'].tolist()\n",
    "\n",
    "# Create a FeatureHasher object\n",
    "hasher = FeatureHasher(n_features=500, input_type='dict')\n",
    "\n",
    "# Transform the modified query_params list\n",
    "hashed_query_params = hasher.transform(modified_query_params)\n",
    "\n",
    "# Convert the hashed query parameters to a DataFrame\n",
    "query_params_df = pd.DataFrame.sparse.from_spmatrix(hashed_query_params)\n",
    "\n",
    "# Display the new DataFrame\n",
    "print(query_params_df)\n",
    "\n",
    "\n"
   ]
  },
  {
   "cell_type": "markdown",
   "id": "47816d5d",
   "metadata": {},
   "source": [
    "### Top Path Pieces"
   ]
  },
  {
   "cell_type": "markdown",
   "id": "1246131f",
   "metadata": {},
   "source": [
    "Multiple-hot vector of the most common word in the path"
   ]
  },
  {
   "cell_type": "code",
   "execution_count": 25,
   "id": "f2429874",
   "metadata": {},
   "outputs": [
    {
     "name": "stdout",
     "output_type": "stream",
     "text": [
      "        word_1  word_2  word_3  word_4  word_5\n",
      "0            1       0       0       0       0\n",
      "1            1       1       1       0       0\n",
      "2            1       1       0       0       0\n",
      "3            1       1       1       0       0\n",
      "4            1       1       1       0       0\n",
      "...        ...     ...     ...     ...     ...\n",
      "813157       1       1       0       0       0\n",
      "813158       1       1       0       0       0\n",
      "813159       1       1       1       0       0\n",
      "813160       1       1       1       0       0\n",
      "813161       0       0       0       0       0\n",
      "\n",
      "[813162 rows x 5 columns]\n"
     ]
    }
   ],
   "source": [
    "import pandas as pd\n",
    "from sklearn.feature_extraction.text import CountVectorizer\n",
    "from sklearn.preprocessing import MultiLabelBinarizer\n",
    "pixel['path'] = pixel['url'].str.split('/').str[3:].str.join('/')\n",
    "vectorizer = CountVectorizer(token_pattern=r'\\b\\w+\\b')\n",
    "word_counts = vectorizer.fit_transform(pixel['path'])\n",
    "word_freq = word_counts.sum(axis=0)\n",
    "top_words = [word for word, _ in sorted(vectorizer.vocabulary_.items(), key=lambda x: word_freq[0, x[1]], reverse=True)[:5]]\n",
    "mlb = MultiLabelBinarizer()\n",
    "multiple_hot_words = mlb.fit_transform(pixel['path'].str.findall('|'.join(top_words)))\n",
    "path_df = pd.DataFrame(multiple_hot_words, columns=[f'word_{i+1}' for i in range(multiple_hot_words.shape[1])])\n",
    "print(path_df)\n"
   ]
  },
  {
   "cell_type": "markdown",
   "id": "53b44a74",
   "metadata": {},
   "source": [
    "### URL Length"
   ]
  },
  {
   "cell_type": "markdown",
   "id": "ced12f6b",
   "metadata": {},
   "source": [
    "Number of characters in path and in query part of URL"
   ]
  },
  {
   "cell_type": "code",
   "execution_count": 26,
   "id": "16e492a9",
   "metadata": {},
   "outputs": [
    {
     "name": "stdout",
     "output_type": "stream",
     "text": [
      "          path_length  query_length\n",
      "5127               74            24\n",
      "5130               39           262\n",
      "5248               28           216\n",
      "5319               28           369\n",
      "5338               40           294\n",
      "...               ...           ...\n",
      "10380973          148             0\n",
      "10380974          153             0\n",
      "10380975           53           453\n",
      "10380976           52           453\n",
      "10380996           57             0\n",
      "\n",
      "[813162 rows x 2 columns]\n"
     ]
    }
   ],
   "source": [
    "# Calculate the number of characters in the path\n",
    "pixel['path_length'] = pixel['url'].apply(lambda url: len(url.split('?')[0]))\n",
    "\n",
    "# Calculate the number of characters in the query part\n",
    "pixel['query_length'] = pixel['url'].apply(lambda url: len(url.split('?')[-1]) if '?' in url else 0)\n",
    "\n",
    "# Display the resulting DataFrame with the added columns\n",
    "print(pixel[['path_length', 'query_length']])"
   ]
  },
  {
   "cell_type": "markdown",
   "id": "a38f88bf",
   "metadata": {},
   "source": [
    "### Has Query"
   ]
  },
  {
   "cell_type": "markdown",
   "id": "b22b0be8",
   "metadata": {},
   "source": [
    "Binary indicator, true if the URL contains any query"
   ]
  },
  {
   "cell_type": "code",
   "execution_count": 27,
   "id": "d3456850",
   "metadata": {},
   "outputs": [
    {
     "name": "stdout",
     "output_type": "stream",
     "text": [
      "                                                        url  query_indicator\n",
      "5127      http://googleads.g.doubleclick.net/pagead/view...             True\n",
      "5130      http://www.google-analytics.com/collect?v=1&_v...             True\n",
      "5248      https://www.facebook.com/tr/?id=26283382541559...             True\n",
      "5319      https://www.facebook.com/tr/?id=26283382541559...             True\n",
      "5338      https://www.google-analytics.com/collect?v=1&_...             True\n",
      "...                                                     ...              ...\n",
      "10380973  https://adservice.google.com/ddm/fls/z/src=112...            False\n",
      "10380974  https://adservice.google.com/ddm/fls/z/src=113...            False\n",
      "10380975  https://www.google.com/pagead/1p-user-list/678...             True\n",
      "10380976  https://www.google.nl/pagead/1p-user-list/6789...             True\n",
      "10380996  https://267425845561726.webpush.freshchat.com/...            False\n",
      "\n",
      "[813162 rows x 2 columns]\n"
     ]
    }
   ],
   "source": [
    "# Create a binary indicator for query presence\n",
    "pixel['query_indicator'] = pixel['url'].str.contains('\\?')\n",
    "\n",
    "# Display the resulting DataFrame with the added column\n",
    "print(pixel[['url', 'query_indicator']])"
   ]
  },
  {
   "cell_type": "markdown",
   "id": "fb9589f1",
   "metadata": {},
   "source": [
    "### Query Count"
   ]
  },
  {
   "cell_type": "markdown",
   "id": "37e2988f",
   "metadata": {},
   "source": [
    "Number of Query Parameters the URL contains"
   ]
  },
  {
   "cell_type": "code",
   "execution_count": 28,
   "id": "2c2f1bf4",
   "metadata": {},
   "outputs": [
    {
     "name": "stdout",
     "output_type": "stream",
     "text": [
      "                                                        url  \\\n",
      "5127      http://googleads.g.doubleclick.net/pagead/view...   \n",
      "5130      http://www.google-analytics.com/collect?v=1&_v...   \n",
      "5248      https://www.facebook.com/tr/?id=26283382541559...   \n",
      "5319      https://www.facebook.com/tr/?id=26283382541559...   \n",
      "5338      https://www.google-analytics.com/collect?v=1&_...   \n",
      "...                                                     ...   \n",
      "10380973  https://adservice.google.com/ddm/fls/z/src=112...   \n",
      "10380974  https://adservice.google.com/ddm/fls/z/src=113...   \n",
      "10380975  https://www.google.com/pagead/1p-user-list/678...   \n",
      "10380976  https://www.google.nl/pagead/1p-user-list/6789...   \n",
      "10380996  https://267425845561726.webpush.freshchat.com/...   \n",
      "\n",
      "          query_parameter_count  \n",
      "5127                          2  \n",
      "5130                          2  \n",
      "5248                          2  \n",
      "5319                          2  \n",
      "5338                          2  \n",
      "...                         ...  \n",
      "10380973                      1  \n",
      "10380974                      1  \n",
      "10380975                      2  \n",
      "10380976                      2  \n",
      "10380996                      1  \n",
      "\n",
      "[813162 rows x 2 columns]\n"
     ]
    }
   ],
   "source": [
    "\n",
    "# Count the number of query parameters\n",
    "pixel['query_parameter_count'] = pixel['url'].str.count('\\?').add(1)\n",
    "\n",
    "# Display the resulting DataFrame with the added column\n",
    "print(pixel[['url', 'query_parameter_count']])\n"
   ]
  },
  {
   "cell_type": "markdown",
   "id": "3758a586",
   "metadata": {},
   "source": [
    "### Entropy URL"
   ]
  },
  {
   "cell_type": "code",
   "execution_count": 29,
   "id": "a9034109",
   "metadata": {},
   "outputs": [],
   "source": [
    "#Shannon Entropy of the URL"
   ]
  },
  {
   "cell_type": "code",
   "execution_count": 30,
   "id": "c8d9d514",
   "metadata": {},
   "outputs": [
    {
     "name": "stdout",
     "output_type": "stream",
     "text": [
      "                                                        url  url_entropy\n",
      "5127      http://googleads.g.doubleclick.net/pagead/view...     4.849618\n",
      "5130      http://www.google-analytics.com/collect?v=1&_v...     5.290184\n",
      "5248      https://www.facebook.com/tr/?id=26283382541559...     5.076696\n",
      "5319      https://www.facebook.com/tr/?id=26283382541559...     5.314567\n",
      "5338      https://www.google-analytics.com/collect?v=1&_...     5.361468\n",
      "...                                                     ...          ...\n",
      "10380973  https://adservice.google.com/ddm/fls/z/src=112...     5.030052\n",
      "10380974  https://adservice.google.com/ddm/fls/z/src=113...     4.974358\n",
      "10380975  https://www.google.com/pagead/1p-user-list/678...     5.492042\n",
      "10380976  https://www.google.nl/pagead/1p-user-list/6789...     5.495285\n",
      "10380996  https://267425845561726.webpush.freshchat.com/...     4.625978\n",
      "\n",
      "[813162 rows x 2 columns]\n"
     ]
    }
   ],
   "source": [
    "import math\n",
    "# Function to calculate Shannon entropy\n",
    "def calculate_entropy(url):\n",
    "    url_length = len(url)\n",
    "    url_chars = set(url)\n",
    "    entropy = 0\n",
    "    for char in url_chars:\n",
    "        char_count = url.count(char)\n",
    "        char_prob = char_count / url_length\n",
    "        entropy -= char_prob * math.log2(char_prob)\n",
    "    return entropy\n",
    "\n",
    "# Calculate Shannon entropy for each URL\n",
    "pixel['url_entropy'] = pixel['url'].apply(calculate_entropy)\n",
    "\n",
    "# Display the resulting DataFrame with the added column\n",
    "print(pixel[['url', 'url_entropy']])"
   ]
  },
  {
   "cell_type": "markdown",
   "id": "d87a1b7c",
   "metadata": {},
   "source": [
    "### Compressed URL"
   ]
  },
  {
   "cell_type": "markdown",
   "id": "7b367ef9",
   "metadata": {},
   "source": [
    "Size and reduction of URL after zlib compression"
   ]
  },
  {
   "cell_type": "code",
   "execution_count": 31,
   "id": "d62c6784",
   "metadata": {},
   "outputs": [
    {
     "name": "stdout",
     "output_type": "stream",
     "text": [
      "                                                        url  compressed_size  \\\n",
      "5127      http://googleads.g.doubleclick.net/pagead/view...               99   \n",
      "5130      http://www.google-analytics.com/collect?v=1&_v...              239   \n",
      "5248      https://www.facebook.com/tr/?id=26283382541559...              195   \n",
      "5319      https://www.facebook.com/tr/?id=26283382541559...              287   \n",
      "5338      https://www.google-analytics.com/collect?v=1&_...              266   \n",
      "...                                                     ...              ...   \n",
      "10380973  https://adservice.google.com/ddm/fls/z/src=112...              136   \n",
      "10380974  https://adservice.google.com/ddm/fls/z/src=113...              135   \n",
      "10380975  https://www.google.com/pagead/1p-user-list/678...              373   \n",
      "10380976  https://www.google.nl/pagead/1p-user-list/6789...              373   \n",
      "10380996  https://267425845561726.webpush.freshchat.com/...               65   \n",
      "\n",
      "          compression_reduction  \n",
      "5127                   0.000000  \n",
      "5130                  20.860927  \n",
      "5248                  20.408163  \n",
      "5319                  27.889447  \n",
      "5338                  20.597015  \n",
      "...                         ...  \n",
      "10380973               8.108108  \n",
      "10380974              11.764706  \n",
      "10380975              26.429980  \n",
      "10380976              26.284585  \n",
      "10380996             -14.035088  \n",
      "\n",
      "[813162 rows x 3 columns]\n"
     ]
    }
   ],
   "source": [
    "# Function to calculate size and reduction after zlib compression\n",
    "def calculate_compression(url):\n",
    "    original_size = len(url)\n",
    "    compressed_data = zlib.compress(url.encode())\n",
    "    compressed_size = len(compressed_data)\n",
    "    reduction = (original_size - compressed_size) / original_size * 100\n",
    "    return compressed_size, reduction\n",
    "\n",
    "# Calculate compression size and reduction for each URL\n",
    "pixel['compressed_size'], pixel['compression_reduction'] = zip(*pixel['url'].map(calculate_compression))\n",
    "\n",
    "# Display the resulting DataFrame with the added columns\n",
    "print(pixel[['url', 'compressed_size', 'compression_reduction']])\n"
   ]
  },
  {
   "cell_type": "markdown",
   "id": "f4feb677",
   "metadata": {},
   "source": [
    "### Header Fields"
   ]
  },
  {
   "cell_type": "markdown",
   "id": "be415ddf",
   "metadata": {},
   "source": [
    "Binary indicator of presence of a specific header field"
   ]
  },
  {
   "cell_type": "code",
   "execution_count": null,
   "id": "ff95bb68",
   "metadata": {},
   "outputs": [],
   "source": [
    "\n",
    "# Function to check the presence of a specific header field\n",
    "def check_header_presence(headers, field):\n",
    "    for header in headers:\n",
    "        if header[0].lower() == field.lower():\n",
    "            return 1\n",
    "    return 0\n",
    "\n",
    "# Create binary indicators for specific header fields\n",
    "pixel['referer_indicator'] = pixel['headers'].apply(lambda x: check_header_presence(x, 'Referer'))\n",
    "pixel['cookie_indicator'] = pixel['headers'].apply(lambda x: check_header_presence(x, 'Cookie'))\n",
    "pixel['origin_indicator'] = pixel['headers'].apply(lambda x: check_header_presence(x, 'Origin'))\n",
    "pixel['alt_used_indicator'] = pixel['headers'].apply(lambda x: check_header_presence(x, 'Alt-Used'))\n",
    "\n",
    "# Display the resulting DataFrame with the added columns\n",
    "print(pixel[['headers', 'referer_indicator', 'cookie_indicator', 'origin_indicator', 'alt_used_indicator']])\n"
   ]
  },
  {
   "cell_type": "markdown",
   "id": "275af1ac",
   "metadata": {},
   "source": [
    "### Header Length"
   ]
  },
  {
   "cell_type": "code",
   "execution_count": null,
   "id": "ea6b348e",
   "metadata": {},
   "outputs": [],
   "source": [
    "# Calculate the number of characters in the headers\n",
    "pixel['headers_length'] = pixel['headers'].str.len()\n",
    "\n",
    "# Display the resulting DataFrame with the added column\n",
    "print(pixel[['headers', 'headers_length']].head())"
   ]
  },
  {
   "cell_type": "markdown",
   "id": "64c9dbf0",
   "metadata": {},
   "source": [
    "### Entropy Headers\n",
    "Shannon entropy over all headers"
   ]
  },
  {
   "cell_type": "code",
   "execution_count": null,
   "id": "4b79ef70",
   "metadata": {},
   "outputs": [],
   "source": [
    "#Shannon entropy is a measure of the information/uncertainty/surprise inherent in a variable's possible outcome.\n",
    "#When applied to strings, \n",
    "#it can be understood as the average minimum number of bits needed to optimally encode that string. \n",
    "#Calculating shannon entropy of headers\n",
    "from collections import Counter\n",
    "from math import log\n",
    "def shannon(string):\n",
    "    counts = Counter(string)\n",
    "    frequencies = ((i / len(string)) for i in counts.values())\n",
    "    return - sum(f * log(f, 2) for f in frequencies)\n",
    "# Calculate Shannon entropy for each URL\n",
    "pixel['header_entropy'] = pixel['headers'].apply(shannon)\n",
    "\n",
    "# Display the resulting DataFrame with the added column\n",
    "print(pixel['header_entropy'])"
   ]
  },
  {
   "cell_type": "markdown",
   "id": "e1eb29cd",
   "metadata": {},
   "source": [
    "### Compressed Headers"
   ]
  },
  {
   "cell_type": "markdown",
   "id": "61abfb1f",
   "metadata": {},
   "source": [
    "Size and reduction of headers after zlib compression"
   ]
  },
  {
   "cell_type": "code",
   "execution_count": null,
   "id": "cc800596",
   "metadata": {},
   "outputs": [],
   "source": [
    "#zlib compression of headers\n",
    "#the functions in this module allow compression and decompression, using the zlib library. \n",
    "comp_pixel_header=[]\n",
    "for i in pixel['headers']:\n",
    "    c=i.encode('utf-8')\n",
    "    zlib.compress(c,9)\n",
    "comp_pixel_header.append(c)\n",
    "comp_pixel_header\n"
   ]
  },
  {
   "cell_type": "code",
   "execution_count": null,
   "id": "13ba4ffe",
   "metadata": {},
   "outputs": [],
   "source": [
    "#size of headers after zlib compression\n",
    "pixel['size_comp_header']=len(comp_pixel_header)"
   ]
  },
  {
   "cell_type": "code",
   "execution_count": null,
   "id": "067498c6",
   "metadata": {},
   "outputs": [],
   "source": [
    "#size difference after compression\n",
    "pixel['reduction_header'] = pixel['compressed_size'] - pixel['headers'].str.len()"
   ]
  },
  {
   "cell_type": "markdown",
   "id": "5b0bf28a",
   "metadata": {},
   "source": [
    "### Image Size"
   ]
  },
  {
   "cell_type": "markdown",
   "id": "3eec94d4",
   "metadata": {},
   "source": [
    "Width and Height of the image in pixels"
   ]
  },
  {
   "cell_type": "code",
   "execution_count": null,
   "id": "981fafcc",
   "metadata": {},
   "outputs": [],
   "source": [
    "# Function to extract width and height from img_size\n",
    "def extract_image_dimensions(img_size):\n",
    "    width, height = img_size\n",
    "    return width, height\n",
    "\n",
    "# Extract width and height of the image\n",
    "pixel['width'], pixel['height'] = zip(*pixel['img_size'].map(extract_image_dimensions))\n",
    "\n",
    "# Display the resulting DataFrame with the added columns\n",
    "print(pixel[['img_size', 'width', 'height']])\n"
   ]
  },
  {
   "cell_type": "markdown",
   "id": "5e0f6212",
   "metadata": {},
   "source": [
    "### Is 1x1"
   ]
  },
  {
   "cell_type": "markdown",
   "id": "bb36a52e",
   "metadata": {},
   "source": [
    "Binary indicator, true if the image is size of 1x1 pixel"
   ]
  },
  {
   "cell_type": "code",
   "execution_count": null,
   "id": "e305bc13",
   "metadata": {},
   "outputs": [],
   "source": [
    "# Create binary indicator for 1x1 pixel size\n",
    "pixel['is_1x1_pixel'] = pixel['img_size'].apply(lambda x: 1 if x == [1, 1] else 0)\n",
    "\n",
    "# Display the resulting DataFrame with the added column\n",
    "print(pixel[['img_size', 'is_1x1_pixel']])\n"
   ]
  },
  {
   "cell_type": "markdown",
   "id": "ed1ba0c6",
   "metadata": {},
   "source": [
    "### Image Format"
   ]
  },
  {
   "cell_type": "markdown",
   "id": "e56a0c5b",
   "metadata": {},
   "source": [
    "One-hot vector indicating the format of the image"
   ]
  },
  {
   "cell_type": "code",
   "execution_count": null,
   "id": "b77ab412",
   "metadata": {},
   "outputs": [],
   "source": [
    "# Perform one-hot encoding on the 'img_format' column\n",
    "one_hot_img_format = pd.get_dummies(pixel['img_format'], prefix='img_format')\n",
    "\n",
    "\n",
    "# Display the resulting DataFrame with the added columns\n",
    "print(one_hot_img_format)"
   ]
  },
  {
   "cell_type": "markdown",
   "id": "424f92e3",
   "metadata": {},
   "source": [
    "### Image Mode"
   ]
  },
  {
   "cell_type": "markdown",
   "id": "7f90101c",
   "metadata": {},
   "source": [
    "One-hot vector indicating the colour mode of the image"
   ]
  },
  {
   "cell_type": "code",
   "execution_count": null,
   "id": "3b8598d5",
   "metadata": {},
   "outputs": [],
   "source": [
    "# Perform one-hot encoding on the 'img_mode' column\n",
    "one_hot_img_mode = pd.get_dummies(pixel['img_mode'], prefix='img_mode')\n",
    "\n",
    "\n",
    "\n",
    "# Display the resulting DataFrame with the added columns\n",
    "print(one_hot_img_mode)"
   ]
  },
  {
   "cell_type": "markdown",
   "id": "f5514008",
   "metadata": {},
   "source": [
    "### Transparency"
   ]
  },
  {
   "cell_type": "markdown",
   "id": "895492b6",
   "metadata": {},
   "source": [
    "Value of alpha-channel of first pixel in RGBA"
   ]
  },
  {
   "cell_type": "code",
   "execution_count": null,
   "id": "5513991c",
   "metadata": {},
   "outputs": [],
   "source": [
    "# Function to extract the alpha channel value\n",
    "def extract_alpha_channel(img_colour):\n",
    "    alpha = img_colour[3]\n",
    "    return alpha\n",
    "\n",
    "# Extract the alpha channel value of the first pixel\n",
    "pixel['alpha_channel'] = pixel['img_colour'].apply(extract_alpha_channel)\n",
    "\n",
    "# Display the resulting DataFrame with the added column\n",
    "print(pixel[['img_colour', 'alpha_channel']])"
   ]
  },
  {
   "cell_type": "markdown",
   "id": "578fe96a",
   "metadata": {},
   "source": [
    "### Image Colour"
   ]
  },
  {
   "cell_type": "markdown",
   "id": "6b88c194",
   "metadata": {},
   "source": [
    "Colour value of the first pixel in RGBA"
   ]
  },
  {
   "cell_type": "code",
   "execution_count": null,
   "id": "a50b7621",
   "metadata": {},
   "outputs": [],
   "source": [
    "# Function to extract the color value\n",
    "def extract_color_value(img_colour):\n",
    "    color = img_colour[:3]\n",
    "    return color\n",
    "\n",
    "# Extract the color value of the first pixel\n",
    "pixel['color_value'] = pixel['img_colour'].apply(extract_color_value)\n",
    "\n",
    "# Display the resulting DataFrame with the added column\n",
    "print(pixel[['img_colour', 'color_value']])"
   ]
  },
  {
   "cell_type": "markdown",
   "id": "38c45d97",
   "metadata": {},
   "source": [
    "### Top T.O. Netlocs"
   ]
  },
  {
   "cell_type": "markdown",
   "id": "02b90bed",
   "metadata": {},
   "source": [
    "One-hot vector of the most common triggering origin netlocs"
   ]
  },
  {
   "cell_type": "code",
   "execution_count": null,
   "id": "533092f0",
   "metadata": {},
   "outputs": [],
   "source": [
    "from sklearn.preprocessing import OneHotEncoder\n",
    "from urllib.parse import urlparse\n",
    "\n",
    "# Assuming your dataset is stored in a pandas DataFrame called 'df'\n",
    "triggering_origins = pixel['triggering_origin'].apply(lambda url: urlparse(url).netloc).value_counts().nlargest(500).index.tolist()\n",
    "\n",
    "# Create a new DataFrame containing only the triggering origin column\n",
    "triggering_origins_pixel = pd.DataFrame({'triggering_origin': triggering_origins})\n",
    "\n",
    "# Apply one-hot encoding to the triggering origin column\n",
    "encoder = OneHotEncoder(sparse=False)\n",
    "triggering_origins_encoded = encoder.fit_transform(triggering_origins_pixel)\n",
    "\n",
    "# Create a new DataFrame with the one-hot encoded features\n",
    "triggering_origins_encoded_pixel = pd.DataFrame(triggering_origins_encoded, columns=encoder.categories_[0])\n",
    "\n"
   ]
  },
  {
   "cell_type": "markdown",
   "id": "1858abeb",
   "metadata": {},
   "source": [
    "### Third Party"
   ]
  },
  {
   "cell_type": "markdown",
   "id": "60b6441a",
   "metadata": {},
   "source": [
    "Binary indicator, true if the pixel originates from a third party"
   ]
  },
  {
   "cell_type": "code",
   "execution_count": null,
   "id": "226a11e2",
   "metadata": {},
   "outputs": [],
   "source": [
    "# Create a binary indicator for third-party origin\n",
    "pixel['is_third_party'] = (pixel['first_party_domain'] != pixel['triggering_origin']).astype(int)\n",
    "pixel['is_third_party']\n"
   ]
  },
  {
   "cell_type": "markdown",
   "id": "c0ba75e7",
   "metadata": {},
   "source": [
    "# Machine Learning "
   ]
  },
  {
   "cell_type": "markdown",
   "id": "15bda075",
   "metadata": {},
   "source": [
    "### Define the target variable and feature matrix "
   ]
  },
  {
   "cell_type": "code",
   "execution_count": null,
   "id": "f2b9b5b4",
   "metadata": {},
   "outputs": [],
   "source": [
    "# Define the target variable\n",
    "target_variable = 'label'  # Replace 'label' with the actual column name representing the target variable\n",
    "y = pixel[target_variable]\n",
    "\n",
    "# Define the feature matrix\n",
    "feature_columns = ['path_length', 'query_length', 'query_indicator', 'query_parameter_count', 'url_entropy',\n",
    "                   'compressed_size', 'compression_reduction', 'referer_indicator', 'cookie_indicator',\n",
    "                   'origin_indicator', 'alt_used_indicator', 'headers_length', 'header_entropy', 'size_comp_header',\n",
    "                  'width', 'height', 'is_1x1_pixel', 'is_third_party']\n",
    "\n",
    "X = pd.concat([path_df, query_params_df, encoded_df, triggering_origins_encoded_pixel], axis=1)\n",
    "\n",
    "#pixel[feature_columns]\n",
    "X"
   ]
  },
  {
   "cell_type": "markdown",
   "id": "cc76c8a3",
   "metadata": {},
   "source": [
    "### Split the data into training and testing sets"
   ]
  },
  {
   "cell_type": "code",
   "execution_count": null,
   "id": "f5196e19",
   "metadata": {},
   "outputs": [],
   "source": [
    "from sklearn.model_selection import train_test_split\n",
    "from sklearn.preprocessing import StandardScaler\n",
    "\n",
    "# Split the data into training and testing sets\n",
    "X_train, X_test, y_train, y_test = train_test_split(X, y, test_size=0.2, random_state=42)\n",
    "\n",
    "# Perform feature scaling\n",
    "scaler = StandardScaler()\n",
    "X_train_scaled = scaler.fit_transform(X_train)\n",
    "X_test_scaled = scaler.transform(X_test)\n"
   ]
  },
  {
   "cell_type": "markdown",
   "id": "8a3bdd8c",
   "metadata": {},
   "source": [
    "### Support Vector Machine Algorithm"
   ]
  },
  {
   "cell_type": "code",
   "execution_count": null,
   "id": "7fdba835",
   "metadata": {},
   "outputs": [],
   "source": [
    "from sklearn.svm import SVC\n",
    "from sklearn.metrics import accuracy_score, classification_report\n",
    "\n",
    "# Create an SVM classifier\n",
    "svm_classifier = SVC(random_state=42)\n",
    "\n",
    "# Fit the model on the training data\n",
    "svm_classifier.fit(X_train_scaled, y_train)\n",
    "\n",
    "# Make predictions on the test data\n",
    "y_pred = svm_classifier.predict(X_test_scaled)\n",
    "\n",
    "# Calculate accuracy\n",
    "accuracy = accuracy_score(y_test, y_pred)\n",
    "print(\"Accuracy:\", accuracy)\n",
    "\n",
    "# Generate a classification report\n",
    "report = classification_report(y_test, y_pred)\n",
    "print(\"Classification Report:\\n\", report)\n"
   ]
  },
  {
   "cell_type": "markdown",
   "id": "d180a40a",
   "metadata": {},
   "source": [
    "### Random Forest Algorithm"
   ]
  },
  {
   "cell_type": "code",
   "execution_count": null,
   "id": "6f18efa6",
   "metadata": {},
   "outputs": [],
   "source": [
    "from sklearn.ensemble import RandomForestClassifier\n",
    "from sklearn.preprocessing import StandardScaler\n",
    "from sklearn.metrics import classification_report\n",
    "from sklearn.metrics import accuracy_score, f1_score, recall_score, confusion_matrix\n",
    "\n",
    "\n",
    "from sklearn.ensemble import RandomForestClassifier\n",
    "from sklearn.metrics import accuracy_score, classification_report\n",
    "\n",
    "# Create a Random Forest classifier\n",
    "random_forest = RandomForestClassifier(n_estimators=100, random_state=42)\n",
    "\n",
    "# Fit the model on the training data\n",
    "random_forest.fit(X_train_scaled, y_train)\n",
    "\n",
    "# Make predictions on the test data\n",
    "y_pred = random_forest.predict(X_test_scaled)\n",
    "\n",
    "# Calculate accuracy\n",
    "accuracy = accuracy_score(y_test, y_pred)\n",
    "print(\"Accuracy:\", accuracy)\n",
    "\n",
    "# Generate a classification report\n",
    "report = classification_report(y_test, y_pred)\n",
    "print(\"Classification Report:\\n\", report)\n"
   ]
  },
  {
   "cell_type": "markdown",
   "id": "e32bc25c",
   "metadata": {},
   "source": [
    "### XGBoost Algorithm"
   ]
  },
  {
   "cell_type": "code",
   "execution_count": null,
   "id": "c795f882",
   "metadata": {},
   "outputs": [],
   "source": [
    "import xgboost as xgb\n",
    "from sklearn.metrics import accuracy_score, classification_report\n",
    "\n",
    "# Create an XGBoost classifier\n",
    "xgb_classifier = xgb.XGBClassifier(random_state=42)\n",
    "\n",
    "# Fit the model on the training data\n",
    "xgb_classifier.fit(X_train_scaled, y_train)\n",
    "\n",
    "# Make predictions on the test data\n",
    "y_pred = xgb_classifier.predict(X_test_scaled)\n",
    "\n",
    "# Calculate accuracy\n",
    "accuracy = accuracy_score(y_test, y_pred)\n",
    "print(\"Accuracy:\", accuracy)\n",
    "\n",
    "# Generate a classification report\n",
    "report = classification_report(y_test, y_pred)\n",
    "print(\"Classification Report:\\n\", report)\n"
   ]
  },
  {
   "cell_type": "markdown",
   "id": "b9c002f3",
   "metadata": {},
   "source": [
    "### MLP-Artificial Neural Network Algorithm"
   ]
  },
  {
   "cell_type": "code",
   "execution_count": null,
   "id": "58289092",
   "metadata": {},
   "outputs": [],
   "source": [
    "from sklearn.neural_network import MLPClassifier\n",
    "from sklearn.metrics import accuracy_score, classification_report\n",
    "\n",
    "# Create an MLP classifier\n",
    "mlp_classifier = MLPClassifier(random_state=42)\n",
    "\n",
    "# Fit the model on the training data\n",
    "mlp_classifier.fit(X_train_scaled, y_train)\n",
    "\n",
    "# Make predictions on the test data\n",
    "y_pred = mlp_classifier.predict(X_test_scaled)\n",
    "\n",
    "# Calculate accuracy\n",
    "accuracy = accuracy_score(y_test, y_pred)\n",
    "print(\"Accuracy:\", accuracy)\n",
    "\n",
    "# Generate a classification report\n",
    "report = classification_report(y_test, y_pred)\n",
    "print(\"Classification Report:\\n\", report)\n",
    "\n"
   ]
  },
  {
   "cell_type": "markdown",
   "id": "fa993426",
   "metadata": {},
   "source": [
    "### Logistic Regression Model"
   ]
  },
  {
   "cell_type": "code",
   "execution_count": null,
   "id": "01c70e3b",
   "metadata": {},
   "outputs": [],
   "source": [
    "from sklearn.linear_model import LogisticRegression\n",
    "from sklearn.metrics import accuracy_score, classification_report\n",
    "\n",
    "# Create a Logistic Regression classifier\n",
    "logreg_classifier = LogisticRegression(random_state=42)\n",
    "\n",
    "# Fit the model on the training data\n",
    "logreg_classifier.fit(X_train_scaled, y_train)\n",
    "\n",
    "# Make predictions on the test data\n",
    "y_pred = logreg_classifier.predict(X_test_scaled)\n",
    "\n",
    "# Calculate accuracy\n",
    "accuracy = accuracy_score(y_test, y_pred)\n",
    "print(\"Accuracy:\", accuracy)\n",
    "\n",
    "# Generate a classification report\n",
    "report = classification_report(y_test, y_pred)\n",
    "print(\"Classification Report:\\n\", report)\n"
   ]
  },
  {
   "cell_type": "markdown",
   "id": "3effa1d7",
   "metadata": {},
   "source": [
    "### Convert the scikit-learn model to TensorFlow.js format:"
   ]
  },
  {
   "cell_type": "code",
   "execution_count": null,
   "id": "13b1a7b4",
   "metadata": {},
   "outputs": [],
   "source": [
    "# Convert the model\n",
    "converted_model = convert(model)\n",
    "\n",
    "# Save the converted model\n",
    "converted_model.save('output_directory')\n"
   ]
  },
  {
   "cell_type": "markdown",
   "id": "18e375f6",
   "metadata": {},
   "source": [
    "### Save the model as Wasm: "
   ]
  },
  {
   "cell_type": "code",
   "execution_count": null,
   "id": "f565030f",
   "metadata": {},
   "outputs": [],
   "source": [
    "import tensorflowjs as tfjs\n",
    "\n",
    "# Assuming you have a TensorFlow.js model saved in 'model_directory'\n",
    "tfjs.converters.save_keras_model('model_directory', 'output_directory', format='tfjs_wasm')\n"
   ]
  },
  {
   "cell_type": "markdown",
   "id": "bb763668",
   "metadata": {},
   "source": [
    "References:\n",
    "https://note.nkmk.me/en/python-str-len/\n",
    "https://www.reddit.com/r/learnpython/comments/g1sdkh/python_programming_challenge_calculating_shannon/"
   ]
  }
 ],
 "metadata": {
  "kernelspec": {
   "display_name": "Python 3 (ipykernel)",
   "language": "python",
   "name": "python3"
  },
  "language_info": {
   "codemirror_mode": {
    "name": "ipython",
    "version": 3
   },
   "file_extension": ".py",
   "mimetype": "text/x-python",
   "name": "python",
   "nbconvert_exporter": "python",
   "pygments_lexer": "ipython3",
   "version": "3.9.12"
  }
 },
 "nbformat": 4,
 "nbformat_minor": 5
}
