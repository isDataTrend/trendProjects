{
 "cells": [
  {
   "cell_type": "markdown",
   "id": "932a8f97",
   "metadata": {},
   "source": [
    "# soru 1"
   ]
  },
  {
   "cell_type": "code",
   "execution_count": 1,
   "id": "81bd4045",
   "metadata": {},
   "outputs": [],
   "source": [
    "from sympy.stats import FiniteRV, P, E, variance"
   ]
  },
  {
   "cell_type": "code",
   "execution_count": 5,
   "id": "180ea26e",
   "metadata": {},
   "outputs": [],
   "source": [
    "sympy_pmf={0:0.39, 1:0.47, 2:0.13, 3:0.008}\n",
    "X=FiniteRV('X', sympy_pmf)"
   ]
  },
  {
   "cell_type": "code",
   "execution_count": 6,
   "id": "d57d2f30",
   "metadata": {},
   "outputs": [
    {
     "data": {
      "text/latex": [
       "$\\displaystyle 0.754$"
      ],
      "text/plain": [
       "0.754000000000000"
      ]
     },
     "execution_count": 6,
     "metadata": {},
     "output_type": "execute_result"
    }
   ],
   "source": [
    "E(X)"
   ]
  },
  {
   "cell_type": "code",
   "execution_count": 7,
   "id": "3ffbf8ed",
   "metadata": {},
   "outputs": [
    {
     "data": {
      "text/latex": [
       "$\\displaystyle 0.492346968$"
      ],
      "text/plain": [
       "0.492346968000000"
      ]
     },
     "execution_count": 7,
     "metadata": {},
     "output_type": "execute_result"
    }
   ],
   "source": [
    "variance(X)"
   ]
  },
  {
   "cell_type": "code",
   "execution_count": 11,
   "id": "3c26e7f9",
   "metadata": {},
   "outputs": [],
   "source": [
    "from sympy.stats import Hypergeometric, density, E, Variance"
   ]
  },
  {
   "cell_type": "code",
   "execution_count": 9,
   "id": "7e092c3b",
   "metadata": {},
   "outputs": [],
   "source": [
    "X = Hypergeometric('X', 16, 4, 3)"
   ]
  },
  {
   "cell_type": "code",
   "execution_count": 10,
   "id": "97fc1db6",
   "metadata": {},
   "outputs": [
    {
     "data": {
      "text/plain": [
       "{0: 11/28, 1: 33/70, 2: 9/70, 3: 1/140}"
      ]
     },
     "execution_count": 10,
     "metadata": {},
     "output_type": "execute_result"
    }
   ],
   "source": [
    "density(X).dict"
   ]
  },
  {
   "cell_type": "code",
   "execution_count": 12,
   "id": "bdf56846",
   "metadata": {},
   "outputs": [
    {
     "data": {
      "text/latex": [
       "$\\displaystyle \\frac{3}{4}$"
      ],
      "text/plain": [
       "3/4"
      ]
     },
     "execution_count": 12,
     "metadata": {},
     "output_type": "execute_result"
    }
   ],
   "source": [
    "E(X)"
   ]
  },
  {
   "cell_type": "code",
   "execution_count": 13,
   "id": "da518da4",
   "metadata": {},
   "outputs": [
    {
     "data": {
      "text/latex": [
       "$\\displaystyle \\frac{39}{80}$"
      ],
      "text/plain": [
       "39/80"
      ]
     },
     "execution_count": 13,
     "metadata": {},
     "output_type": "execute_result"
    }
   ],
   "source": [
    "variance(X)"
   ]
  },
  {
   "cell_type": "code",
   "execution_count": 14,
   "id": "95f89b35",
   "metadata": {},
   "outputs": [],
   "source": [
    "import numpy as np\n",
    "\n",
    "from scipy.stats import hypergeom"
   ]
  },
  {
   "cell_type": "code",
   "execution_count": 31,
   "id": "a258f123",
   "metadata": {},
   "outputs": [],
   "source": [
    "[M, n, N] = [16, 3, 4]\n",
    "\n",
    "rv = hypergeom(M, n, N)\n",
    "\n",
    "x = np.arange(0, n+1)\n",
    "\n"
   ]
  },
  {
   "cell_type": "code",
   "execution_count": 35,
   "id": "f657cbc8",
   "metadata": {},
   "outputs": [],
   "source": [
    "e=hypergeom.pmf(x, M, n, N, loc=0)"
   ]
  },
  {
   "cell_type": "code",
   "execution_count": 36,
   "id": "8a17ea89",
   "metadata": {},
   "outputs": [
    {
     "data": {
      "text/plain": [
       "array([0.39285714, 0.47142857, 0.12857143, 0.00714286])"
      ]
     },
     "execution_count": 36,
     "metadata": {},
     "output_type": "execute_result"
    }
   ],
   "source": [
    "e"
   ]
  },
  {
   "cell_type": "code",
   "execution_count": 37,
   "id": "12723102",
   "metadata": {},
   "outputs": [],
   "source": [
    "v=hypergeom.var(M, n, N, loc=0)"
   ]
  },
  {
   "cell_type": "code",
   "execution_count": 38,
   "id": "a282c2c5",
   "metadata": {},
   "outputs": [
    {
     "data": {
      "text/plain": [
       "0.4875"
      ]
     },
     "execution_count": 38,
     "metadata": {},
     "output_type": "execute_result"
    }
   ],
   "source": [
    "v"
   ]
  },
  {
   "cell_type": "code",
   "execution_count": 39,
   "id": "9642aefc",
   "metadata": {},
   "outputs": [],
   "source": [
    "s=hypergeom.std(M, n, N, loc=0)"
   ]
  },
  {
   "cell_type": "code",
   "execution_count": 40,
   "id": "b5877bb1",
   "metadata": {},
   "outputs": [
    {
     "data": {
      "text/plain": [
       "0.698212002188447"
      ]
     },
     "execution_count": 40,
     "metadata": {},
     "output_type": "execute_result"
    }
   ],
   "source": [
    "s"
   ]
  },
  {
   "cell_type": "markdown",
   "id": "0efd4408",
   "metadata": {},
   "source": [
    "# soru 2"
   ]
  },
  {
   "cell_type": "code",
   "execution_count": 54,
   "id": "dbdc7618",
   "metadata": {},
   "outputs": [
    {
     "data": {
      "text/latex": [
       "$\\displaystyle 1 - \\frac{31}{e^{30}}$"
      ],
      "text/plain": [
       "1 - 31*exp(-30)"
      ]
     },
     "execution_count": 54,
     "metadata": {},
     "output_type": "execute_result"
    }
   ],
   "source": [
    "from sympy.stats import ContinuousRV, P, E\n",
    "\n",
    "from sympy import exp, Symbol, Interval, oo\n",
    "\n",
    "x = Symbol('x')\n",
    "\n",
    "pdf = exp(-x) # pdf of the Continuous Distribution\n",
    "\n",
    "Z = ContinuousRV(x, pdf, set=Interval(0, 30))\n",
    "\n",
    "E(Z)"
   ]
  },
  {
   "cell_type": "code",
   "execution_count": 47,
   "id": "47fd0cff",
   "metadata": {},
   "outputs": [],
   "source": [
    "from sympy.stats import Uniform, density, P, E, variance\n",
    "from sympy import Symbol, pprint"
   ]
  },
  {
   "cell_type": "code",
   "execution_count": 51,
   "id": "261be88c",
   "metadata": {},
   "outputs": [],
   "source": [
    "a=0\n",
    "b=30\n",
    "X = Uniform(\"x\", a, b)"
   ]
  },
  {
   "cell_type": "code",
   "execution_count": 52,
   "id": "758c7d96",
   "metadata": {},
   "outputs": [
    {
     "data": {
      "text/latex": [
       "$\\displaystyle 15$"
      ],
      "text/plain": [
       "15"
      ]
     },
     "execution_count": 52,
     "metadata": {},
     "output_type": "execute_result"
    }
   ],
   "source": [
    "E(X)"
   ]
  },
  {
   "cell_type": "code",
   "execution_count": 55,
   "id": "8a194770",
   "metadata": {},
   "outputs": [
    {
     "ename": "NameError",
     "evalue": "name 'var' is not defined",
     "output_type": "error",
     "traceback": [
      "\u001b[0;31m---------------------------------------------------------------------------\u001b[0m",
      "\u001b[0;31mNameError\u001b[0m                                 Traceback (most recent call last)",
      "Input \u001b[0;32mIn [55]\u001b[0m, in \u001b[0;36m<cell line: 1>\u001b[0;34m()\u001b[0m\n\u001b[0;32m----> 1\u001b[0m \u001b[43mvar\u001b[49m(X)\n",
      "\u001b[0;31mNameError\u001b[0m: name 'var' is not defined"
     ]
    }
   ],
   "source": [
    "var(X)"
   ]
  },
  {
   "cell_type": "code",
   "execution_count": 68,
   "id": "771982c9",
   "metadata": {},
   "outputs": [],
   "source": [
    "import numpy as np\n",
    "from scipy.stats import uniform"
   ]
  },
  {
   "cell_type": "code",
   "execution_count": 69,
   "id": "7b23e646",
   "metadata": {},
   "outputs": [],
   "source": [
    "x = np.arange(0, 30, 1)"
   ]
  },
  {
   "cell_type": "code",
   "execution_count": 86,
   "id": "56070793",
   "metadata": {},
   "outputs": [
    {
     "data": {
      "text/plain": [
       "15.0"
      ]
     },
     "execution_count": 86,
     "metadata": {},
     "output_type": "execute_result"
    }
   ],
   "source": [
    "uniform.mean(loc=0,scale=30)"
   ]
  },
  {
   "cell_type": "code",
   "execution_count": 81,
   "id": "291813a2",
   "metadata": {},
   "outputs": [
    {
     "data": {
      "text/plain": [
       "array([ 0,  1,  2,  3,  4,  5,  6,  7,  8,  9, 10, 11, 12, 13, 14, 15, 16,\n",
       "       17, 18, 19, 20, 21, 22, 23, 24, 25, 26, 27, 28, 29])"
      ]
     },
     "execution_count": 81,
     "metadata": {},
     "output_type": "execute_result"
    }
   ],
   "source": [
    "x"
   ]
  },
  {
   "cell_type": "code",
   "execution_count": 87,
   "id": "8c370bc8",
   "metadata": {},
   "outputs": [
    {
     "data": {
      "text/plain": [
       "array([0. , 0.1, 0.2, 0.3, 0.4, 0.5, 0.6, 0.7, 0.8, 0.9])"
      ]
     },
     "execution_count": 87,
     "metadata": {},
     "output_type": "execute_result"
    }
   ],
   "source": [
    "uniform.cdf(np.arange(0,10,1),loc=0,scale=10)"
   ]
  },
  {
   "cell_type": "code",
   "execution_count": 89,
   "id": "f5104e02",
   "metadata": {},
   "outputs": [
    {
     "data": {
      "text/plain": [
       "array([0.        , 0.14285714, 0.28571429, 0.42857143, 0.57142857,\n",
       "       0.71428571])"
      ]
     },
     "execution_count": 89,
     "metadata": {},
     "output_type": "execute_result"
    }
   ],
   "source": [
    "uniform.cdf(np.arange(24,30,1),loc=24,scale=7)"
   ]
  },
  {
   "cell_type": "code",
   "execution_count": null,
   "id": "20084d00",
   "metadata": {},
   "outputs": [],
   "source": []
  },
  {
   "cell_type": "markdown",
   "id": "72d5dd27",
   "metadata": {},
   "source": [
    "# soru 5"
   ]
  },
  {
   "cell_type": "code",
   "execution_count": 90,
   "id": "62c8da10",
   "metadata": {},
   "outputs": [],
   "source": [
    "import pandas as pd\n",
    "import numpy as np"
   ]
  },
  {
   "cell_type": "code",
   "execution_count": 91,
   "id": "c0fc9657",
   "metadata": {},
   "outputs": [],
   "source": [
    "x=340\n",
    "n=500"
   ]
  },
  {
   "cell_type": "code",
   "execution_count": 92,
   "id": "b1f75195",
   "metadata": {},
   "outputs": [],
   "source": [
    "t=x/y"
   ]
  },
  {
   "cell_type": "code",
   "execution_count": 93,
   "id": "7764d348",
   "metadata": {},
   "outputs": [
    {
     "data": {
      "text/plain": [
       "0.68"
      ]
     },
     "execution_count": 93,
     "metadata": {},
     "output_type": "execute_result"
    }
   ],
   "source": [
    "t"
   ]
  },
  {
   "cell_type": "code",
   "execution_count": 94,
   "id": "0d644382",
   "metadata": {},
   "outputs": [],
   "source": [
    "se_x = np.sqrt(t * (1 - t) / n)"
   ]
  },
  {
   "cell_type": "code",
   "execution_count": 95,
   "id": "758be550",
   "metadata": {},
   "outputs": [
    {
     "data": {
      "text/plain": [
       "0.2693201316896554"
      ]
     },
     "execution_count": 95,
     "metadata": {},
     "output_type": "execute_result"
    }
   ],
   "source": [
    "se_x"
   ]
  },
  {
   "cell_type": "code",
   "execution_count": 97,
   "id": "62824b62",
   "metadata": {},
   "outputs": [],
   "source": [
    "z_score =1.96"
   ]
  },
  {
   "cell_type": "code",
   "execution_count": 98,
   "id": "5df7a143",
   "metadata": {},
   "outputs": [],
   "source": [
    "lcb = t - z_score* se_x #lower limit of the CI\n",
    "ucb = t + z_score* se_x #upper limit of the CI"
   ]
  },
  {
   "cell_type": "code",
   "execution_count": 99,
   "id": "7e5d1896",
   "metadata": {},
   "outputs": [
    {
     "data": {
      "text/plain": [
       "0.1521325418882754"
      ]
     },
     "execution_count": 99,
     "metadata": {},
     "output_type": "execute_result"
    }
   ],
   "source": [
    "lcb"
   ]
  },
  {
   "cell_type": "code",
   "execution_count": 100,
   "id": "ec8dc759",
   "metadata": {},
   "outputs": [
    {
     "data": {
      "text/plain": [
       "1.2078674581117248"
      ]
     },
     "execution_count": 100,
     "metadata": {},
     "output_type": "execute_result"
    }
   ],
   "source": [
    "ucb"
   ]
  },
  {
   "cell_type": "code",
   "execution_count": null,
   "id": "9883442b",
   "metadata": {},
   "outputs": [],
   "source": []
  }
 ],
 "metadata": {
  "kernelspec": {
   "display_name": "Python 3 (ipykernel)",
   "language": "python",
   "name": "python3"
  },
  "language_info": {
   "codemirror_mode": {
    "name": "ipython",
    "version": 3
   },
   "file_extension": ".py",
   "mimetype": "text/x-python",
   "name": "python",
   "nbconvert_exporter": "python",
   "pygments_lexer": "ipython3",
   "version": "3.9.12"
  }
 },
 "nbformat": 4,
 "nbformat_minor": 5
}
