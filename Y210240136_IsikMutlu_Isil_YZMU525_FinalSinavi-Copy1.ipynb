{
 "cells": [
  {
   "cell_type": "markdown",
   "id": "ff579278",
   "metadata": {},
   "source": [
    "# YZMU525 Final Sınavı\n",
    "# Işıl Işık Mutlu \n",
    "# Öğrenci No:Y210240136"
   ]
  },
  {
   "cell_type": "code",
   "execution_count": null,
   "id": "8a656c5a",
   "metadata": {},
   "outputs": [],
   "source": [
    "import pandas as pd #pandas kütüphanesinin içeri alınması\n",
    "import numpy as np  #numpy kütüphanesinin içeri alınması\n",
    "import matplotlib.pyplot as plt  #matplotlib kütüphanesinin içeri alınması\n",
    "import seaborn as sns  #seaborn kütüphanesinin içeri alınması"
   ]
  },
  {
   "cell_type": "markdown",
   "id": "27583e16",
   "metadata": {},
   "source": [
    "# NumPy array işlemleri"
   ]
  },
  {
   "cell_type": "code",
   "execution_count": null,
   "id": "deb80d97",
   "metadata": {},
   "outputs": [],
   "source": [
    "#boy değişkeni için 150-200 aralığnda 50 adet rasgele değerler dizisi elde edilmesi\n",
    "np.random.seed(20)\n",
    "boy=np.random.randint(150,200,50)\n",
    "boy"
   ]
  },
  {
   "cell_type": "code",
   "execution_count": null,
   "id": "5ae09c4e",
   "metadata": {},
   "outputs": [],
   "source": [
    "#kilo değişkeni için 50-200 aralığnda 50 adet rasgele değerler dizisi elde edilmesi\n",
    "np.random.seed(20)\n",
    "kilo=np.random.randint(50, 200, 50)\n",
    "kilo"
   ]
  },
  {
   "cell_type": "code",
   "execution_count": null,
   "id": "3e95abad",
   "metadata": {},
   "outputs": [],
   "source": [
    "#cinsiyet değişkeni için 0-2 (2 dahil değil) aralığnda 50 adet rasgele değerler dizisi elde edilmesi\n",
    "\n",
    "np.random.seed(20)\n",
    "cinsiyet=np.random.randint(0,2, 50)\n",
    "cinsiyet"
   ]
  },
  {
   "cell_type": "code",
   "execution_count": null,
   "id": "d506f8e0",
   "metadata": {},
   "outputs": [],
   "source": [
    "#hasta_numarası  değişkeni için 11234-78369 aralığında 50 adet rasgele değerler dizisi elde edilmesi\n",
    "\n",
    "np.random.seed(20)\n",
    "hasta_numarasi=np.random.randint(11234,78369,50)\n",
    "hasta_numarasi"
   ]
  },
  {
   "cell_type": "code",
   "execution_count": null,
   "id": "f4bdcd08",
   "metadata": {},
   "outputs": [],
   "source": [
    "#boy değişkeninin veri tipi\n",
    "boy.dtype"
   ]
  },
  {
   "cell_type": "code",
   "execution_count": null,
   "id": "9af8fb5f",
   "metadata": {},
   "outputs": [],
   "source": [
    "#kilo numpy dizisinin şekli\n",
    "kilo.shape"
   ]
  },
  {
   "cell_type": "code",
   "execution_count": null,
   "id": "23c96334",
   "metadata": {},
   "outputs": [],
   "source": [
    "#boy'un maksimum aldığı değer\n",
    "boy.max()"
   ]
  },
  {
   "cell_type": "code",
   "execution_count": null,
   "id": "32324f4b",
   "metadata": {},
   "outputs": [],
   "source": [
    "#boy'un minimum aldığı değer\n",
    "boy.min()"
   ]
  },
  {
   "cell_type": "code",
   "execution_count": null,
   "id": "352ccabd",
   "metadata": {},
   "outputs": [],
   "source": [
    "#kilo'nun maksimum aldığı değer\n",
    "kilo.max()"
   ]
  },
  {
   "cell_type": "code",
   "execution_count": null,
   "id": "f06f7947",
   "metadata": {},
   "outputs": [],
   "source": [
    "#kilo'nun minimum aldığı değer\n",
    "kilo.min()"
   ]
  },
  {
   "cell_type": "code",
   "execution_count": null,
   "id": "cb56b3e1",
   "metadata": {},
   "outputs": [],
   "source": [
    "kilo.argmin()  #minimum kilonun indeksi"
   ]
  },
  {
   "cell_type": "code",
   "execution_count": null,
   "id": "531ec7f6",
   "metadata": {},
   "outputs": [],
   "source": [
    "kilo[28]  #28.indeksteki kilo"
   ]
  },
  {
   "cell_type": "code",
   "execution_count": null,
   "id": "f0ae040c",
   "metadata": {},
   "outputs": [],
   "source": [
    "#kilo numpy array'i içerisinde kilosu 70'den küçük ve eşit olanların dizisi\n",
    "kilo[kilo<=70]"
   ]
  },
  {
   "cell_type": "code",
   "execution_count": null,
   "id": "dc0df2ac",
   "metadata": {},
   "outputs": [],
   "source": [
    "#boy numpy array'i içerisinde boyu 175'den büyük olanların dizisi\n",
    "\n",
    "boy[boy>175]"
   ]
  },
  {
   "cell_type": "markdown",
   "id": "37b5e850",
   "metadata": {},
   "source": [
    "# Pandas Series İşlemleri"
   ]
  },
  {
   "cell_type": "code",
   "execution_count": null,
   "id": "5c443dcd",
   "metadata": {},
   "outputs": [],
   "source": [
    "kilo=pd.Series(kilo)                      #kilo pandas series'ini kilo numpy array'den oluşturma\n",
    "boy=pd.Series(boy)                        #boy pandas series'ini boy numpy array'den oluşturma\n",
    "hasta_numarasi=pd.Series(hasta_numarasi)  #hasta_numarasi pandas series'ini hasta_numarasi numpy aray'den oluşturma"
   ]
  },
  {
   "cell_type": "code",
   "execution_count": null,
   "id": "d1d8cb8a",
   "metadata": {},
   "outputs": [],
   "source": [
    "#BKI'nin kilonun boy'a (m2 cinsinden) bölümünden elde edilmesi\n",
    "BKI=kilo/((boy/100)*(boy/100))\n",
    "BKI"
   ]
  },
  {
   "cell_type": "code",
   "execution_count": null,
   "id": "99df5384",
   "metadata": {},
   "outputs": [],
   "source": [
    "#BKI'inin veri tipi: pandas Series\n",
    "type(BKI)"
   ]
  },
  {
   "cell_type": "code",
   "execution_count": null,
   "id": "a7f1ff69",
   "metadata": {},
   "outputs": [],
   "source": [
    "#BKI'inin anahtarları \n",
    "BKI.keys()"
   ]
  },
  {
   "cell_type": "code",
   "execution_count": null,
   "id": "1e872d7a",
   "metadata": {},
   "outputs": [],
   "source": [
    "#28.indeksteki BKI verisinin değeri\n",
    "BKI[28]"
   ]
  },
  {
   "cell_type": "code",
   "execution_count": null,
   "id": "3afd62fa",
   "metadata": {},
   "outputs": [],
   "source": [
    "#BKI'nin ortalamasının hesaplanması\n",
    "BKI.mean()"
   ]
  },
  {
   "cell_type": "code",
   "execution_count": null,
   "id": "9c03bbee",
   "metadata": {},
   "outputs": [],
   "source": [
    "#BKI'nin standart sapmasının hesaplanması\n",
    "BKI.std()"
   ]
  },
  {
   "cell_type": "code",
   "execution_count": null,
   "id": "3f3ccbd5",
   "metadata": {},
   "outputs": [],
   "source": [
    "#BKI'nin varyansının hesaplanması\n",
    "BKI.var()"
   ]
  },
  {
   "cell_type": "code",
   "execution_count": null,
   "id": "6a023f24",
   "metadata": {},
   "outputs": [],
   "source": [
    "#BKI'nin minımum'unun hesaplanması\n",
    "BKI.min()"
   ]
  },
  {
   "cell_type": "code",
   "execution_count": null,
   "id": "196de292",
   "metadata": {},
   "outputs": [],
   "source": [
    "#BKI'nin maximum'unun hesaplanması\n",
    "BKI.max()"
   ]
  },
  {
   "cell_type": "code",
   "execution_count": null,
   "id": "1eef2cf7",
   "metadata": {},
   "outputs": [],
   "source": [
    "#cinsiyet numpy array'in pandas Series'e dönüştürülmesi\n",
    "cinsiyet=pd.Series(cinsiyet)"
   ]
  },
  {
   "cell_type": "code",
   "execution_count": null,
   "id": "cd593960",
   "metadata": {},
   "outputs": [],
   "source": [
    "# cinsiyet serisinde 0 değerinin Erkek, 1 değerinin Kadin olarak atanması\n",
    "if cinsiyet.item==0:\n",
    "    item='Erkek'\n",
    "else:\n",
    "    item='Kadin'\n",
    "cinsiyet"
   ]
  },
  {
   "cell_type": "code",
   "execution_count": null,
   "id": "58d1b042",
   "metadata": {},
   "outputs": [],
   "source": [
    "#0'ın Kadin, 1'in erkek olarak dictionary'de key:value şeklinde cn değişkenine atanması\n",
    "cn=pd.Series({0:'Kadin', 1:'Erkek'})\n",
    "cn"
   ]
  },
  {
   "cell_type": "markdown",
   "id": "bdaac3a6",
   "metadata": {},
   "source": [
    "# DataFrame ile işlemler"
   ]
  },
  {
   "cell_type": "code",
   "execution_count": null,
   "id": "5395a799",
   "metadata": {},
   "outputs": [],
   "source": [
    "#hasta_numarasi, kilo, boy, BKI, cinsiyet pandas Serilerinden Tablo DataFrame'i oluşturulması\n",
    "#Transpose fonksiyonu ile ilk beş(head) verilerinin görüntülenmesi\n",
    "Tablo=pd.DataFrame(data=(hasta_numarasi,kilo, boy, BKI, cinsiyet)).T\n",
    "Tablo.head()"
   ]
  },
  {
   "cell_type": "code",
   "execution_count": null,
   "id": "edcd7e75",
   "metadata": {},
   "outputs": [],
   "source": [
    "#sütunların rename fonksiyonu ile yendiden isimlendirimesi, inplace=True ile Tablo'nun bu şekilde kalıcı hale gelmesi\n",
    "Tablo.rename(columns={0:'hasta_numarasi',1:'Kilo', 2:'Boy', 3:'BKI', 4:'Cinsiyet', }, inplace=True)\n",
    "Tablo.head()"
   ]
  },
  {
   "cell_type": "code",
   "execution_count": null,
   "id": "676d3435",
   "metadata": {},
   "outputs": [],
   "source": [
    "#Tablo ile ilgili bilgiler\n",
    "Tablo.info()"
   ]
  },
  {
   "cell_type": "code",
   "execution_count": null,
   "id": "59d73df4",
   "metadata": {},
   "outputs": [],
   "source": [
    "#Tablo ile ilgili istaistiki bilgiler\n",
    "Tablo.describe()"
   ]
  },
  {
   "cell_type": "code",
   "execution_count": null,
   "id": "06073b79",
   "metadata": {},
   "outputs": [],
   "source": [
    "#Tablo ile ilgili istatisik bilgilerin transpose edilince görünümü\n",
    "Tablo.describe().transpose()"
   ]
  },
  {
   "cell_type": "code",
   "execution_count": null,
   "id": "40131fe9",
   "metadata": {},
   "outputs": [],
   "source": [
    "#Tablo'nun sütunları\n",
    "Tablo.columns"
   ]
  },
  {
   "cell_type": "code",
   "execution_count": null,
   "id": "c9cf96ac",
   "metadata": {},
   "outputs": [],
   "source": [
    "#Tablo'nun şekli: 50 satır, 5 sütun\n",
    "Tablo.shape"
   ]
  },
  {
   "cell_type": "code",
   "execution_count": null,
   "id": "06ef49ca",
   "metadata": {},
   "outputs": [],
   "source": [
    "#Tablo'nun ilk beş satırının bilgisinin head() ile görüntülenmesi\n",
    "Tablo.head()"
   ]
  },
  {
   "cell_type": "code",
   "execution_count": null,
   "id": "063a2007",
   "metadata": {},
   "outputs": [],
   "source": [
    "#hasta numarası'nın ve Cinsiyet'in  integer değer  olarak atanması\n",
    "Tablo['hasta_numarasi']=Tablo['hasta_numarasi'].astype(int)\n",
    "Tablo['Cinsiyet']=Tablo['Cinsiyet'].astype(int)\n",
    "Tablo.head()"
   ]
  },
  {
   "cell_type": "code",
   "execution_count": null,
   "id": "d4cf233e",
   "metadata": {},
   "outputs": [],
   "source": [
    "#BKI sütununda ondalıklı kısmının tek olacak şekilde değiştirlmesi\n",
    "Tablo['BKI']=Tablo['BKI'].round(1)\n",
    "Tablo.head()"
   ]
  },
  {
   "cell_type": "code",
   "execution_count": null,
   "id": "7853854f",
   "metadata": {},
   "outputs": [],
   "source": [
    "#Tablo'nun indeks bilgisi\n",
    "Tablo.index"
   ]
  },
  {
   "cell_type": "code",
   "execution_count": null,
   "id": "3507741f",
   "metadata": {},
   "outputs": [],
   "source": [
    "#Tablo DataFrame'inde hasta_numarasının labelled indeks olarak atanması\n",
    "Tablo=Tablo.set_index('hasta_numarasi')  #Labelled index\n",
    "Tablo.head()  #Tablo'da head'in görüntülenmesi"
   ]
  },
  {
   "cell_type": "code",
   "execution_count": null,
   "id": "4ba9f7dc",
   "metadata": {},
   "outputs": [],
   "source": [
    "Tablo.index.name=None  #indeks isminin None olarak atanması\n",
    "Tablo.head()"
   ]
  },
  {
   "cell_type": "code",
   "execution_count": null,
   "id": "09625fa7",
   "metadata": {},
   "outputs": [],
   "source": [
    "#0.sıradaki satırın bilgileri\n",
    "Tablo.iloc[0]"
   ]
  },
  {
   "cell_type": "code",
   "execution_count": null,
   "id": "ee272a31",
   "metadata": {},
   "outputs": [],
   "source": [
    "#1.dahil- 3. hariç sıradaki satırların bilgileri\n",
    "Tablo.iloc[1:3]"
   ]
  },
  {
   "cell_type": "code",
   "execution_count": null,
   "id": "6681cdf7",
   "metadata": {},
   "outputs": [],
   "source": [
    "#hasta_numarasi 43196 olaran satırın bilgileri\n",
    "Tablo.loc[43196]"
   ]
  },
  {
   "cell_type": "code",
   "execution_count": null,
   "id": "5d512267",
   "metadata": {},
   "outputs": [],
   "source": [
    "Tablo=Tablo.drop(43196, axis=0)  #indeksi verilen satırı siler\n",
    "Tablo.head() #head'i görüntüler"
   ]
  },
  {
   "cell_type": "code",
   "execution_count": null,
   "id": "641c6133",
   "metadata": {},
   "outputs": [],
   "source": [
    "Tablo.shape  #bir satırın silindiği görülüyor--49 adet satır kalmış"
   ]
  },
  {
   "cell_type": "code",
   "execution_count": null,
   "id": "830e9ad4",
   "metadata": {},
   "outputs": [],
   "source": [
    "#key:value dictionary ile oluşturulan yeniTablo isimli bir DataFrame\n",
    "yeniTablo=pd.DataFrame({'Durum':['Zayif', 'Normal Kilolu', 'Fazla Kilolu', '1. derece Obez', '2.derece Obez', 'Morbid Obez'], \n",
    "                        'BKI_değeri':['<18.5kg/m^2', '18.5-24.9kg/m^2','25-29.9kg/m^2','30-34.9kg/m^2','35-39.9kg/m^2','>40kg/m^2']})"
   ]
  },
  {
   "cell_type": "code",
   "execution_count": null,
   "id": "7a8e2720",
   "metadata": {},
   "outputs": [],
   "source": [
    "#yeniTablo'nun görünümü\n",
    "yeniTablo"
   ]
  },
  {
   "cell_type": "code",
   "execution_count": null,
   "id": "62e53281",
   "metadata": {},
   "outputs": [],
   "source": [
    "#bki değerine göre sınıflandırma yapan bir fonksiyon\n",
    "def durum(bki):\n",
    "    if bki<18.5:\n",
    "        return 'Zayif'\n",
    "    elif bki <25:\n",
    "        return'Normal Kilolu'\n",
    "    elif bki <30:\n",
    "        return 'Fazla Kilolu'\n",
    "    elif bki < 35:\n",
    "        return '1.derece Obez'\n",
    "    elif bki <40:\n",
    "        return '2.derece Obez'\n",
    "    else:\n",
    "        return 'Morbid Obez'"
   ]
  },
  {
   "cell_type": "code",
   "execution_count": null,
   "id": "1d07a3a2",
   "metadata": {},
   "outputs": [],
   "source": [
    "#apply metodu ile Tablo'nun BKI sütununa durum fonksiyonun uygulanması ve çıktı değerin \n",
    "#Hasta_Durum sütunu adı altında yeni bir sütuna verilmesi\n",
    "Tablo['Hasta_Durum']=Tablo['BKI'].apply(durum)\n",
    "Tablo.head()"
   ]
  },
  {
   "cell_type": "code",
   "execution_count": null,
   "id": "1e7f5e3e",
   "metadata": {},
   "outputs": [],
   "source": [
    "#Daha önce oluşturduğumuz cinsiyet tablosu\n",
    "cn"
   ]
  },
  {
   "cell_type": "code",
   "execution_count": null,
   "id": "811f46b2",
   "metadata": {},
   "outputs": [],
   "source": [
    "#cinsiyet tablosunun cins adlı fonksiyona girdi olarak verilmesi\n",
    "def cins(cn):\n",
    "    if cn==0:\n",
    "        return 'Kadin'\n",
    "    else:\n",
    "        return 'Erkek'"
   ]
  },
  {
   "cell_type": "code",
   "execution_count": null,
   "id": "1f6e496e",
   "metadata": {},
   "outputs": [],
   "source": [
    "#cins fonksiyonunun Tablo DataFramine uygulanması ve Cinsiyet1 adlı yeni sutun oluşturulması\n",
    "Tablo['Cinsiyet1']=Tablo['Cinsiyet'].apply(cins)\n",
    "Tablo.head()"
   ]
  },
  {
   "cell_type": "code",
   "execution_count": null,
   "id": "7013aeec",
   "metadata": {},
   "outputs": [],
   "source": [
    "#Tablo DataFrame'inde BKI'si 18.5 dan az olan satırların görüntülenmesi\n",
    "Tablo[Tablo['BKI']<18.5]"
   ]
  },
  {
   "cell_type": "code",
   "execution_count": null,
   "id": "4fafd7d5",
   "metadata": {},
   "outputs": [],
   "source": [
    "#Tablo DataFrame'inde BKI'si 40 dan fazla olan ve Kilo'su 150den fazla olan  satırların görüntülenmesi\n",
    "Tablo[(Tablo['BKI']>40) & (Tablo['Kilo']>150)]"
   ]
  },
  {
   "cell_type": "code",
   "execution_count": null,
   "id": "57d94ea6",
   "metadata": {},
   "outputs": [],
   "source": [
    "#BKI'si 18.6, 23.2, 46.8 olan veya Cinsiyet1'i K ile başlayan satırları göster\n",
    "Tablo[(Tablo['BKI'].isin([18.6, 23.2, 46.8])) | (Tablo['Cinsiyet1'].str.startswith=='K')]"
   ]
  },
  {
   "cell_type": "code",
   "execution_count": null,
   "id": "14144f76",
   "metadata": {},
   "outputs": [],
   "source": [
    "#50 adet  1 ve 24(hariç) arasında 'Verilen Kilo' değeri oluştur\n",
    "np.random.seed(20)\n",
    "Verilen_Kilo=np.random.randint(1, 24, 50)\n",
    "Verilen_Kilo=pd.DataFrame(Verilen_Kilo, hasta_numarasi)  #Verilen_Kilo ve hasta_numarasi ile Verilen_Kilo adında yeni DataFrame\n",
    "Verilen_Kilo=Verilen_Kilo.rename(columns={0:'Verilen Kilo'}) #0 olan yeni sütun isminin Verilen_Kilo sütun ismiyle  yeniden isimlendirilmesi "
   ]
  },
  {
   "cell_type": "code",
   "execution_count": null,
   "id": "3fecdc38",
   "metadata": {},
   "outputs": [],
   "source": [
    "#Tablo ve Verilen_Kilo tablosunun sütun ekseninde concat ile birleştirilmesi\n",
    "Tablo=pd.concat([Tablo, Verilen_Kilo], axis=1)\n",
    "\n",
    "Tablo.head()"
   ]
  },
  {
   "cell_type": "code",
   "execution_count": null,
   "id": "0aa87a54",
   "metadata": {},
   "outputs": [],
   "source": [
    "#Tablo'nun verilerinin BKI ve Kilo sütunları düzleminde büyükten küçüğe sıralanması\n",
    "Tablo.sort_values(['BKI', 'Kilo'], ascending=False)"
   ]
  },
  {
   "cell_type": "code",
   "execution_count": null,
   "id": "f69b4dce",
   "metadata": {},
   "outputs": [],
   "source": [
    "#Tablo DataFrameinde maksimum BKI\n",
    "Tablo['BKI'].max()"
   ]
  },
  {
   "cell_type": "code",
   "execution_count": null,
   "id": "21f49642",
   "metadata": {},
   "outputs": [],
   "source": [
    "#Tablo DataFrameinde minimum BKI\n",
    "Tablo['BKI'].min()"
   ]
  },
  {
   "cell_type": "code",
   "execution_count": null,
   "id": "35e515be",
   "metadata": {},
   "outputs": [],
   "source": [
    "#Tablo DataFrameinde maksimum BKI'nin indeks numarası\n",
    "Tablo['BKI'].idxmax()"
   ]
  },
  {
   "cell_type": "code",
   "execution_count": null,
   "id": "017cff65",
   "metadata": {},
   "outputs": [],
   "source": [
    "#40179 numaralı indeksteki satırın verileri\n",
    "Tablo.loc[40179]"
   ]
  },
  {
   "cell_type": "code",
   "execution_count": null,
   "id": "2b7c7f65",
   "metadata": {},
   "outputs": [],
   "source": [
    "#Tablo DataFrameinde minimum BKI'nin indeks numarası\n",
    "Tablo['BKI'].idxmin()"
   ]
  },
  {
   "cell_type": "code",
   "execution_count": null,
   "id": "bfe8f364",
   "metadata": {},
   "outputs": [],
   "source": [
    "Tablo.corr()  #Tablo'da sayısal değişkenler arasındaki korelasyon"
   ]
  },
  {
   "cell_type": "code",
   "execution_count": null,
   "id": "ae6b6466",
   "metadata": {},
   "outputs": [],
   "source": [
    "#Tablo'da BKI'nin unique değerleri\n",
    "Tablo['BKI'].unique()"
   ]
  },
  {
   "cell_type": "code",
   "execution_count": null,
   "id": "018f5193",
   "metadata": {},
   "outputs": [],
   "source": [
    "#BKI'nin unique değerlerinin sayısı\n",
    "Tablo['BKI'].nunique()"
   ]
  },
  {
   "cell_type": "code",
   "execution_count": null,
   "id": "a8625cec",
   "metadata": {},
   "outputs": [],
   "source": [
    "#Cinsiyet1'in değelerinin sayısı\n",
    "Tablo['Cinsiyet1'].value_counts()"
   ]
  },
  {
   "cell_type": "code",
   "execution_count": null,
   "id": "4ab41c3f",
   "metadata": {},
   "outputs": [],
   "source": [
    "#Tablo'nun head'i-- ilk beş satır\n",
    "Tablo.head()"
   ]
  },
  {
   "cell_type": "code",
   "execution_count": null,
   "id": "270a6054",
   "metadata": {},
   "outputs": [],
   "source": [
    "#Cinsiyet1 sütununda yer alan Kadin ve Erkek değerleri yerine K ve E değerlerinin atanması\n",
    "Tablo['Cinsiyet1']=Tablo['Cinsiyet1'].replace(['Kadin', 'Erkek'],['K', 'E'])\n",
    "Tablo.head()"
   ]
  },
  {
   "cell_type": "code",
   "execution_count": null,
   "id": "5842ee94",
   "metadata": {},
   "outputs": [],
   "source": [
    "Tablo['Kilo'].duplicated()  #Tekrarlayan kilo var mı döndürür. İlk gördüğüne True sonra False yazar."
   ]
  },
  {
   "cell_type": "code",
   "execution_count": null,
   "id": "6bb6cfa5",
   "metadata": {},
   "outputs": [],
   "source": [
    "Tablo[['Kilo', 'Cinsiyet']].duplicated()\n",
    "#Tekrarlayan [kilo, cinsiyet] var mı döndürür. \n",
    "#İlk gördüğüne True sonra False yazar."
   ]
  },
  {
   "cell_type": "code",
   "execution_count": null,
   "id": "77c95db1",
   "metadata": {},
   "outputs": [],
   "source": [
    "Tablo.drop_duplicates()  #Tekrar eden veri varsa onu drop etsin\n",
    "Tablo.dropna() #NA verileri silsin"
   ]
  },
  {
   "cell_type": "code",
   "execution_count": null,
   "id": "c4ad5e7f",
   "metadata": {},
   "outputs": [],
   "source": [
    "Tablo[Tablo['BKI'].between(18,25)]  #BKI 18 ve 25 arasında kalanları tabloda göster--alt ve üst sınır dahildir"
   ]
  },
  {
   "cell_type": "code",
   "execution_count": null,
   "id": "76096d8d",
   "metadata": {},
   "outputs": [],
   "source": [
    "Tablo.nlargest(3, 'Kilo')  #en yüksek kilodaki ik 3 kişi-Tablo.sort_values('Kilo', ascending=False).iloc[:3] ile aynı"
   ]
  },
  {
   "cell_type": "code",
   "execution_count": null,
   "id": "988c9909",
   "metadata": {},
   "outputs": [],
   "source": [
    "Tablo.sample(frac=0.3)  #Tablo dataframeinin %30luk rasgele örneklemini alır"
   ]
  },
  {
   "cell_type": "code",
   "execution_count": null,
   "id": "df5fd610",
   "metadata": {},
   "outputs": [],
   "source": [
    "Tablo['Hasta_Durum'].unique() #Hasta_Durum'sütununun aldığı unique değerler"
   ]
  },
  {
   "cell_type": "code",
   "execution_count": null,
   "id": "1a01ad7b",
   "metadata": {},
   "outputs": [],
   "source": [
    "Tablo['Hasta_Durum'].value_counts()  #Hasta_Durum sütunundaki değerlerin sayısı"
   ]
  },
  {
   "cell_type": "code",
   "execution_count": null,
   "id": "93193445",
   "metadata": {},
   "outputs": [],
   "source": [
    "Tablo.groupby('Hasta_Durum').count()  #Tabloyu Hasta_Durum ile gruplayarak alınan toplam değerleri verir"
   ]
  },
  {
   "cell_type": "code",
   "execution_count": null,
   "id": "55b0114d",
   "metadata": {},
   "outputs": [],
   "source": [
    "Tablo.groupby('Hasta_Durum').mean()#Tabloyu Hasta_Durum ile gruplayarak her bir sütundaki \n",
    "#değerlerin ortalamasını verir"
   ]
  },
  {
   "cell_type": "code",
   "execution_count": null,
   "id": "e37cc249",
   "metadata": {},
   "outputs": [],
   "source": [
    "#Tabloyu Cinsiyet1 ile gruplayarak her bir sütundaki değerlerin ortalamasını verir\n",
    "Tablo.groupby('Cinsiyet1').mean()"
   ]
  },
  {
   "cell_type": "code",
   "execution_count": null,
   "id": "dd0cb244",
   "metadata": {},
   "outputs": [],
   "source": [
    "#Tabloyu Cinsiyet1 ile gruplayarak Kilo sütunundaki değerlerin ortalamasını verir\n",
    "Tablo.groupby('Cinsiyet1').mean()['Kilo']"
   ]
  },
  {
   "cell_type": "code",
   "execution_count": null,
   "id": "d1a114aa",
   "metadata": {},
   "outputs": [],
   "source": [
    "#Tablonun çeşitli sütunlarını Cinsiyet1 ile gruplayarak, sütunlara ait istatistiki bilgileri verir\n",
    "Tablo[['Kilo', 'Boy', 'BKI', 'Cinsiyet1']].groupby('Cinsiyet1').describe().T"
   ]
  },
  {
   "cell_type": "code",
   "execution_count": null,
   "id": "dbafd0d0",
   "metadata": {},
   "outputs": [],
   "source": [
    "#Tablo DataFrame'ini Cinsiyet1 ve Hasta_Durum'a göre gruplayıp (multiindeks seri) ortalama değerleri verir\n",
    "Gruplanmis_Tablo=Tablo.groupby(['Cinsiyet1', 'Hasta_Durum']).mean()\n",
    "Gruplanmis_Tablo"
   ]
  },
  {
   "cell_type": "code",
   "execution_count": null,
   "id": "6622c950",
   "metadata": {},
   "outputs": [],
   "source": [
    "#Yukarıdaki multiindex içeren tablonun indekslerini verir\n",
    "Tablo.groupby(['Cinsiyet1', 'Hasta_Durum']).mean().index"
   ]
  },
  {
   "cell_type": "code",
   "execution_count": null,
   "id": "91e1b2fc",
   "metadata": {},
   "outputs": [],
   "source": [
    "Tablo.groupby(['Cinsiyet1', 'Hasta_Durum']).mean()['BKI'] #multiindex series-ortalama BKIleri verir"
   ]
  },
  {
   "cell_type": "code",
   "execution_count": null,
   "id": "d7f39aac",
   "metadata": {},
   "outputs": [],
   "source": [
    "#multi indekslerin isimlerini verir\n",
    "Gruplanmis_Tablo.index.names"
   ]
  },
  {
   "cell_type": "code",
   "execution_count": null,
   "id": "54a8aa7f",
   "metadata": {},
   "outputs": [],
   "source": [
    "#multi indeksin aldığı değerleri verir\n",
    "Gruplanmis_Tablo.index.values"
   ]
  },
  {
   "cell_type": "code",
   "execution_count": null,
   "id": "b113bc51",
   "metadata": {},
   "outputs": [],
   "source": [
    "#multi indeksin seviyelerini verir\n",
    "Gruplanmis_Tablo.index.levels"
   ]
  },
  {
   "cell_type": "code",
   "execution_count": null,
   "id": "37085c23",
   "metadata": {},
   "outputs": [],
   "source": [
    "#'E' ve 'Fazla kilolu' değerlerini içeren satırdaki değerleri verir \n",
    "Gruplanmis_Tablo.loc[('E', 'Fazla Kilolu')]"
   ]
  },
  {
   "cell_type": "code",
   "execution_count": null,
   "id": "6d7710fd",
   "metadata": {},
   "outputs": [],
   "source": [
    "#E değerini içeren satırlardaki değerleri döndürür\n",
    "Gruplanmis_Tablo.loc['E']"
   ]
  },
  {
   "cell_type": "code",
   "execution_count": null,
   "id": "78f0116e",
   "metadata": {},
   "outputs": [],
   "source": [
    "Gruplanmis_Tablo.xs(key='E', level='Cinsiyet1')  #cross-section kullanarak E anahtarına ait satırları döndürür"
   ]
  },
  {
   "cell_type": "code",
   "execution_count": null,
   "id": "a38c1f80",
   "metadata": {},
   "outputs": [],
   "source": [
    "Gruplanmis_Tablo.xs(key='Zayif', level='Hasta_Durum') #cross-section kullanarak Zayif anahtarına ait satırları döndürür"
   ]
  },
  {
   "cell_type": "code",
   "execution_count": null,
   "id": "81100c0b",
   "metadata": {},
   "outputs": [],
   "source": [
    "Gruplanmis_Tablo.swaplevel()  #Levelları yer değiştirmek için swaplevel() kullanıyoruz.\n",
    "#Cinsiyet ve Hasta_Durum yer değiştirir"
   ]
  },
  {
   "cell_type": "code",
   "execution_count": null,
   "id": "c7ab6670",
   "metadata": {},
   "outputs": [],
   "source": [
    "#1.derece, 2.derece, 3.derece, Morbid Obez Hasta_Durum'u olan hastaların Hasta_Durum ve Cinsiyet1 ile grupalandırılmış\n",
    "#ortalama değelerini içeren tablo\n",
    "Tablo[Tablo['Hasta_Durum'].isin(['1.derece Obez', '2.derece Obez', 'Morbid Obez'])].groupby(['Hasta_Durum', 'Cinsiyet1']).mean()"
   ]
  },
  {
   "cell_type": "code",
   "execution_count": null,
   "id": "4d686f4d",
   "metadata": {},
   "outputs": [],
   "source": [
    "#Tablo'nun standart sapma, ortalama ve sayım olarak aggregation'ı\n",
    "Tablo.agg(['std', 'mean', 'count'])"
   ]
  },
  {
   "cell_type": "code",
   "execution_count": null,
   "id": "502047d2",
   "metadata": {},
   "outputs": [],
   "source": [
    "#BKI'nin stardart sapması, ortalaması, sayısı, minimum ve maksimum'u\n",
    "#Hasta_Durum'un sayısını veren agregasyon fonksiyonu\n",
    "Tablo.agg({'BKI':['std','mean','count','min','max'], 'Hasta_Durum':'count'})"
   ]
  },
  {
   "cell_type": "markdown",
   "id": "af49165a",
   "metadata": {},
   "source": [
    "# Matplolib ile işlemler"
   ]
  },
  {
   "cell_type": "code",
   "execution_count": null,
   "id": "82bd796e",
   "metadata": {},
   "outputs": [],
   "source": [
    "## Fonksiyonel Tabanlı"
   ]
  },
  {
   "cell_type": "code",
   "execution_count": null,
   "id": "3ff2604f",
   "metadata": {},
   "outputs": [],
   "source": [
    "#Beden Kitle Indeksine göre Kilo'nun aldığı değerleri veren grafik\n",
    "plt.plot(Tablo['Kilo'],Tablo['BKI'])\n",
    "plt.title('Beden Kitle İndeksine Göre Kilo(kg)')\n",
    "plt.xlabel('Kilo(kg)')\n",
    "plt.ylabel('Beden Kitle İndeksi (BKİ)')\n",
    "plt.xlim(45,200)\n",
    "plt.ylim(0,90)\n",
    "plt.show()\n",
    "plt.savefig('Beden Kitle İndeksine Göre Kilo(kg)')"
   ]
  },
  {
   "cell_type": "markdown",
   "id": "0963c018",
   "metadata": {},
   "source": [
    "## Figure Object (OOP)"
   ]
  },
  {
   "cell_type": "code",
   "execution_count": null,
   "id": "d7b90eb7",
   "metadata": {},
   "outputs": [],
   "source": [
    "#Kilo'ya göre BKI ve Kiloya göre Verilen Kilo'nun Kilo'nun değerlerini veren grafik iki yanyana grafik\n",
    "fig=plt.figure(figsize=(10,4), dpi=400)  #boş canvas oluşturur,  figsize= figürün boyutu, dpi=çözünürlüğü değiştirir\n",
    "axes1=fig.add_axes([0,0,1,1]) #sırasıyla left, bottom,width,height\n",
    "axes2=fig.add_axes([1.2,0,1,1])\n",
    "axes1.plot(Tablo['Kilo'],Tablo['BKI'])\n",
    "axes2.plot(Tablo['Kilo'],Tablo['Verilen Kilo'])\n",
    "axes1.set_xlabel('Kilo')\n",
    "axes1.set_ylabel('BKI')\n",
    "axes1.set_xlim(0,250)\n",
    "axes1.set_ylim(0,90)\n",
    "axes1.set_title('Kiloya göre BKI')\n",
    "axes2.set_xlabel('Kilo')\n",
    "axes2.set_ylabel('Verilen Kilo')\n",
    "axes2.set_xlim(0,250)\n",
    "axes2.set_ylim(0,25)\n",
    "axes2.set_title('Kiloya göre Verilen Kilo')\n",
    "plt.show()\n",
    "fig.savefig('OOP_fig', bbox_inches='tight')  #bounding box"
   ]
  },
  {
   "cell_type": "code",
   "execution_count": null,
   "id": "1944dad2",
   "metadata": {},
   "outputs": [],
   "source": [
    "## Subplots"
   ]
  },
  {
   "cell_type": "code",
   "execution_count": null,
   "id": "ea1c214d",
   "metadata": {},
   "outputs": [],
   "source": [
    "fig, axes=plt.subplots(nrows=2, ncols=2) #2 satır 2 sütunluk subplot\n",
    "axes[0][0].plot(Tablo['Kilo'],Tablo['BKI'])\n",
    "axes[0][0].set_title('Kilo ve BKI İlişkisi')\n",
    "axes[0][0].set_xlabel('Kilo(kg)')\n",
    "axes[0][0].set_ylabel('BKI(kg/m^2)')\n",
    "\n",
    "axes[0][1].plot(Tablo['Kilo'],Tablo['Verilen Kilo'])\n",
    "axes[0][1].set_title('Kilo ve Verilen Kilo İlişkisi')\n",
    "axes[0][1].set_xlabel('Kilo(kg)')\n",
    "axes[0][1].set_ylabel('Verilen Kilo(kg)')\n",
    "\n",
    "axes[1][0].plot(Tablo['Boy'],Tablo['BKI'])\n",
    "axes[1][0].set_title('Boy(cm) ve BKI İlişkisi')\n",
    "axes[1][0].set_xlabel('Boy(cm)')\n",
    "axes[1][0].set_ylabel('BKI(kg/m^2)')\n",
    "\n",
    "axes[1][1].plot(Tablo['BKI'],Tablo['Verilen Kilo'])\n",
    "axes[1][1].set_title('BKI ve Verilen Kilo İlişkisi')\n",
    "axes[1][1].set_xlabel('BKI(kg/m^2)')\n",
    "axes[1][1].set_ylabel('Verilen Kilo(kg)')\n",
    "\n",
    "fig.suptitle('Kilo, BKI, Verilen Kilo İlişkileri')  #bütün şekillerin üst başlığı\n",
    "plt.tight_layout()\n"
   ]
  },
  {
   "cell_type": "code",
   "execution_count": null,
   "id": "f237277b",
   "metadata": {},
   "outputs": [],
   "source": [
    "##İki grafiği aynı grafik üzerinde göstermek istersek legend kullanırız"
   ]
  },
  {
   "cell_type": "code",
   "execution_count": null,
   "id": "7b2b114f",
   "metadata": {},
   "outputs": [],
   "source": [
    "fig = plt.figure()\n",
    "ax=fig.add_axes([0,0,1,1])\n",
    "ax.plot(Tablo['BKI'],Tablo['Verilen Kilo'], label='BKI ve Verilen Kilo İlişkisi', color='red', linewidth=0,ls='--', marker='*')\n",
    "ax.plot(Tablo['Kilo'],Tablo['Verilen Kilo'], label= 'Kilo ve Verilen Kilo İlişkisi', color='green', linewidth=0, marker='o' )\n",
    "ax.legend(loc=(1.1,0.5))\n",
    "plt.show()\n",
    "plt.style.use('ggplot')  #arkada grid oluşturur\n"
   ]
  },
  {
   "cell_type": "markdown",
   "id": "097cd71b",
   "metadata": {},
   "source": [
    "# Seaborn kütüphanesi ile işlemler"
   ]
  },
  {
   "cell_type": "code",
   "execution_count": null,
   "id": "fe156a40",
   "metadata": {},
   "outputs": [],
   "source": [
    "#Scatterplot: iki sürekli değişken arasındaki ilişkiyi ve değişkenlerin aralığını (min, max) inceliyoruz"
   ]
  },
  {
   "cell_type": "code",
   "execution_count": null,
   "id": "c11237fc",
   "metadata": {},
   "outputs": [],
   "source": [
    "plt.figure(figsize=(8,5), dpi=100)\n",
    "sns.scatterplot(data=Tablo, x='BKI', y='Kilo', hue='Cinsiyet1').set(xlabel='BKI', ylabel='Kilo(kg)', \n",
    "                                                     title='Kilo ve BKI arasındaki ilişki')\n"
   ]
  },
  {
   "cell_type": "code",
   "execution_count": null,
   "id": "071ee177",
   "metadata": {},
   "outputs": [],
   "source": [
    "#BKI arrtıkça noktalardaki renk ve büyüklük değiştirerek gösterimi\n",
    "sns.scatterplot(data=Tablo, x='BKI', y='Kilo', hue='BKI', size='BKI', palette='YlOrRd').set(xlabel='BKI', ylabel='Kilo(kg)', \n",
    "                                                     title='Kilo ve BKI arasındaki ilişki')"
   ]
  },
  {
   "cell_type": "code",
   "execution_count": null,
   "id": "8a26d55a",
   "metadata": {},
   "outputs": [],
   "source": [
    "#Kilo ve BKI arasındaki ilişkide cinsiyet'in farklı şekille gösterimi\n",
    "plt.figure(figsize=(8,5), dpi=100)\n",
    "sns.scatterplot(data=Tablo, x='BKI', y='Kilo', style='Cinsiyet1', hue='Cinsiyet1').set(xlabel='BKI', ylabel='Kilo(kg)', \n",
    "                                                     title='Kilo ve BKI arasındaki ilişki')\n",
    "plt.savefig('Kilo ve BKI arasındaki ilişki')"
   ]
  },
  {
   "cell_type": "markdown",
   "id": "6c47485c",
   "metadata": {},
   "source": [
    "## Distribution Plots"
   ]
  },
  {
   "cell_type": "code",
   "execution_count": null,
   "id": "422879db",
   "metadata": {},
   "outputs": [],
   "source": [
    "#rugplot"
   ]
  },
  {
   "cell_type": "code",
   "execution_count": null,
   "id": "310113d2",
   "metadata": {},
   "outputs": [],
   "source": [
    "sns.rugplot(data=Tablo, x='BKI', height=0.2) #BKI'nin saçaklı gösterimi"
   ]
  },
  {
   "cell_type": "code",
   "execution_count": null,
   "id": "b6b82132",
   "metadata": {},
   "outputs": [],
   "source": [
    "#Histogram"
   ]
  },
  {
   "cell_type": "code",
   "execution_count": null,
   "id": "e1d9fe08",
   "metadata": {},
   "outputs": [],
   "source": [
    "#BKI'nin sayısal dağılımının kırmızı renk ve mavi sınır çizigisi ile gösterimi\n",
    "sns.histplot(data=Tablo, x='BKI', color='red', edgecolor='blue', linewidth=2)"
   ]
  },
  {
   "cell_type": "code",
   "execution_count": null,
   "id": "4c665600",
   "metadata": {},
   "outputs": [],
   "source": [
    "#Histogramın üzerinde çizgi ile dağılımdaki varyasyonun gösterimi. \n",
    "sns.displot(data=Tablo, x='BKI', color='purple', edgecolor='blue', linewidth=2, rug=True, kde=True)"
   ]
  },
  {
   "cell_type": "code",
   "execution_count": null,
   "id": "38d09a52",
   "metadata": {},
   "outputs": [],
   "source": [
    "#KDE Plot(Kernel Distribution Estimation Plot): olasılık kütle fonksiyonunu verir"
   ]
  },
  {
   "cell_type": "code",
   "execution_count": null,
   "id": "6c63dcc9",
   "metadata": {},
   "outputs": [],
   "source": [
    "sns.kdeplot(data=Tablo, x='BKI', color='red', clip=[20,80], shade=True)"
   ]
  },
  {
   "cell_type": "markdown",
   "id": "fd564604",
   "metadata": {},
   "source": [
    "# Kategorik Grafikler"
   ]
  },
  {
   "cell_type": "code",
   "execution_count": null,
   "id": "9cf4130e",
   "metadata": {},
   "outputs": [],
   "source": [
    "#count plot"
   ]
  },
  {
   "cell_type": "code",
   "execution_count": null,
   "id": "bf0702ce",
   "metadata": {},
   "outputs": [],
   "source": [
    "#Kadın ve Erkeklerin Hasta_Durumlarının sayıları\n",
    "plt.figure(figsize=(7,4), dpi=100)\n",
    "sns.countplot(data=Tablo, x='Hasta_Durum', order=Tablo['Hasta_Durum'].value_counts().index, hue='Cinsiyet1')"
   ]
  },
  {
   "cell_type": "code",
   "execution_count": null,
   "id": "3355db6f",
   "metadata": {},
   "outputs": [],
   "source": [
    "#Bar plot"
   ]
  },
  {
   "cell_type": "code",
   "execution_count": null,
   "id": "dab7cbaa",
   "metadata": {},
   "outputs": [],
   "source": [
    "plt.figure(figsize=(9,4), dpi=100)\n",
    "sns.barplot(data=Tablo, x='Hasta_Durum', y='BKI', hue='Cinsiyet1', ci='sd')  \n",
    "#BKIlerin kategorilerinde cinsiyete göre ortalama değerleri, confidence interval'da standard deviation kullanıldı"
   ]
  },
  {
   "cell_type": "code",
   "execution_count": null,
   "id": "467cf23c",
   "metadata": {},
   "outputs": [],
   "source": [
    "Tablo.groupby('Hasta_Durum').mean()['BKI']"
   ]
  },
  {
   "cell_type": "code",
   "execution_count": null,
   "id": "46a8d7a0",
   "metadata": {},
   "outputs": [],
   "source": [
    "#Box plot"
   ]
  },
  {
   "cell_type": "code",
   "execution_count": null,
   "id": "f4826dd4",
   "metadata": {},
   "outputs": [],
   "source": [
    "#Hasta_Durumdaki BKI'nin minimum, first quartile, median, third quartile, ve  maximumların gösterimi\n",
    "plt.figure(figsize=(9,5), dpi=100)\n",
    "\n",
    "sns.boxplot(data=Tablo, y='BKI', x='Hasta_Durum')"
   ]
  },
  {
   "cell_type": "code",
   "execution_count": null,
   "id": "c4b09e5c",
   "metadata": {},
   "outputs": [],
   "source": [
    "#Violin Plot: Box plot ve kernel density plot'ın hibrid hali"
   ]
  },
  {
   "cell_type": "code",
   "execution_count": null,
   "id": "141e85f4",
   "metadata": {},
   "outputs": [],
   "source": [
    "plt.figure(figsize=(9,5), dpi=100)\n",
    "\n",
    "sns.violinplot(data=Tablo, y='BKI', x='Hasta_Durum')"
   ]
  },
  {
   "cell_type": "code",
   "execution_count": null,
   "id": "b19a02d1",
   "metadata": {},
   "outputs": [],
   "source": [
    "#swarm plot: bir değişkeni kategorik olan scatterplot"
   ]
  },
  {
   "cell_type": "code",
   "execution_count": null,
   "id": "55d5c4c3",
   "metadata": {},
   "outputs": [],
   "source": [
    "#Cinsiyet1'i kategorik değişken, cinsiyete göre BKIlerin karşılık geldiği Hasta_Durum ile renklendiriyor\n",
    "plt.figure(figsize=(9,5), dpi=100)\n",
    "\n",
    "sns.swarmplot(data=Tablo, y='BKI', x='Cinsiyet1', hue='Hasta_Durum')"
   ]
  },
  {
   "cell_type": "markdown",
   "id": "b8a570c6",
   "metadata": {},
   "source": [
    "## Karşılaştırma Grafikleri"
   ]
  },
  {
   "cell_type": "code",
   "execution_count": null,
   "id": "bcb47f2d",
   "metadata": {},
   "outputs": [],
   "source": [
    "#Joint Plot"
   ]
  },
  {
   "cell_type": "code",
   "execution_count": null,
   "id": "1050c00b",
   "metadata": {},
   "outputs": [],
   "source": [
    "#Histogram ve scatterplot birlikte\n",
    "sns.jointplot(data=Tablo, x='BKI', y='Kilo')"
   ]
  },
  {
   "cell_type": "code",
   "execution_count": null,
   "id": "ba4be4ef",
   "metadata": {},
   "outputs": [],
   "source": [
    "#Pair plot"
   ]
  },
  {
   "cell_type": "code",
   "execution_count": null,
   "id": "32ac6660",
   "metadata": {},
   "outputs": [],
   "source": [
    "#Tablodaki bütün ikili ilişkileri köşelerde histogramla, diğer kısımda scatter plot ile gösterir\n",
    "sns.pairplot(data=Tablo, corner=True)"
   ]
  },
  {
   "cell_type": "markdown",
   "id": "12c09c86",
   "metadata": {},
   "source": [
    "# Grid Plots"
   ]
  },
  {
   "cell_type": "code",
   "execution_count": null,
   "id": "1cc97559",
   "metadata": {},
   "outputs": [],
   "source": [
    "#Cat Plot"
   ]
  },
  {
   "cell_type": "code",
   "execution_count": null,
   "id": "cad7f060",
   "metadata": {},
   "outputs": [],
   "source": [
    "#Hasta_Durum'un BKI'ye göre göre her iki cins için ayrı çizilmiş box plot olarak gösterimi\n",
    "sns.catplot(data=Tablo, x='Hasta_Durum', y='BKI', kind='box', row='Cinsiyet1')"
   ]
  },
  {
   "cell_type": "markdown",
   "id": "5db64b3d",
   "metadata": {},
   "source": [
    "Kaynaklar: YZMU525 Ders Notları"
   ]
  },
  {
   "cell_type": "code",
   "execution_count": null,
   "id": "92ddbdb8",
   "metadata": {},
   "outputs": [],
   "source": []
  }
 ],
 "metadata": {
  "kernelspec": {
   "display_name": "Python 3 (ipykernel)",
   "language": "python",
   "name": "python3"
  },
  "language_info": {
   "codemirror_mode": {
    "name": "ipython",
    "version": 3
   },
   "file_extension": ".py",
   "mimetype": "text/x-python",
   "name": "python",
   "nbconvert_exporter": "python",
   "pygments_lexer": "ipython3",
   "version": "3.9.12"
  }
 },
 "nbformat": 4,
 "nbformat_minor": 5
}
