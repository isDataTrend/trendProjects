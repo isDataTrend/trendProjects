{
 "cells": [
  {
   "cell_type": "code",
   "execution_count": 1,
   "id": "8f160242",
   "metadata": {},
   "outputs": [
    {
     "name": "stderr",
     "output_type": "stream",
     "text": [
      "/home/trojan/anaconda3/lib/python3.9/site-packages/scipy/__init__.py:146: UserWarning: A NumPy version >=1.16.5 and <1.23.0 is required for this version of SciPy (detected version 1.23.4\n",
      "  warnings.warn(f\"A NumPy version >={np_minversion} and <{np_maxversion}\"\n"
     ]
    }
   ],
   "source": [
    "import math\n",
    "import statistics\n",
    "import numpy as np\n",
    "import scipy.stats\n",
    "import pandas as pd"
   ]
  },
  {
   "cell_type": "markdown",
   "id": "36b68d8f",
   "metadata": {},
   "source": [
    "# Soru 3"
   ]
  },
  {
   "cell_type": "markdown",
   "id": "c5b09eee",
   "metadata": {},
   "source": [
    "# Ortalama ve Standard Sapma"
   ]
  },
  {
   "cell_type": "code",
   "execution_count": 105,
   "id": "98f648ca",
   "metadata": {},
   "outputs": [],
   "source": [
    "#get csv file for data\n",
    "enflasyon = pd.read_csv('file:///home/trojan/Documents/arasinav.csv', sep = ';', decimal = ',', skiprows=[1])"
   ]
  },
  {
   "cell_type": "code",
   "execution_count": 106,
   "id": "4fee1899",
   "metadata": {},
   "outputs": [
    {
     "data": {
      "text/html": [
       "<div>\n",
       "<style scoped>\n",
       "    .dataframe tbody tr th:only-of-type {\n",
       "        vertical-align: middle;\n",
       "    }\n",
       "\n",
       "    .dataframe tbody tr th {\n",
       "        vertical-align: top;\n",
       "    }\n",
       "\n",
       "    .dataframe thead th {\n",
       "        text-align: right;\n",
       "    }\n",
       "</style>\n",
       "<table border=\"1\" class=\"dataframe\">\n",
       "  <thead>\n",
       "    <tr style=\"text-align: right;\">\n",
       "      <th></th>\n",
       "      <th>enflasyon</th>\n",
       "    </tr>\n",
       "  </thead>\n",
       "  <tbody>\n",
       "    <tr>\n",
       "      <th>0</th>\n",
       "      <td>125.49</td>\n",
       "    </tr>\n",
       "    <tr>\n",
       "      <th>1</th>\n",
       "      <td>76.05</td>\n",
       "    </tr>\n",
       "    <tr>\n",
       "      <th>2</th>\n",
       "      <td>79.76</td>\n",
       "    </tr>\n",
       "    <tr>\n",
       "      <th>3</th>\n",
       "      <td>99.09</td>\n",
       "    </tr>\n",
       "    <tr>\n",
       "      <th>4</th>\n",
       "      <td>69.73</td>\n",
       "    </tr>\n",
       "    <tr>\n",
       "      <th>5</th>\n",
       "      <td>68.79</td>\n",
       "    </tr>\n",
       "    <tr>\n",
       "      <th>6</th>\n",
       "      <td>39.03</td>\n",
       "    </tr>\n",
       "    <tr>\n",
       "      <th>7</th>\n",
       "      <td>68.53</td>\n",
       "    </tr>\n",
       "    <tr>\n",
       "      <th>8</th>\n",
       "      <td>29.75</td>\n",
       "    </tr>\n",
       "    <tr>\n",
       "      <th>9</th>\n",
       "      <td>18.36</td>\n",
       "    </tr>\n",
       "    <tr>\n",
       "      <th>10</th>\n",
       "      <td>9.32</td>\n",
       "    </tr>\n",
       "    <tr>\n",
       "      <th>11</th>\n",
       "      <td>7.72</td>\n",
       "    </tr>\n",
       "    <tr>\n",
       "      <th>12</th>\n",
       "      <td>9.65</td>\n",
       "    </tr>\n",
       "    <tr>\n",
       "      <th>13</th>\n",
       "      <td>8.39</td>\n",
       "    </tr>\n",
       "    <tr>\n",
       "      <th>14</th>\n",
       "      <td>10.06</td>\n",
       "    </tr>\n",
       "    <tr>\n",
       "      <th>15</th>\n",
       "      <td>6.53</td>\n",
       "    </tr>\n",
       "    <tr>\n",
       "      <th>16</th>\n",
       "      <td>6.40</td>\n",
       "    </tr>\n",
       "    <tr>\n",
       "      <th>17</th>\n",
       "      <td>10.45</td>\n",
       "    </tr>\n",
       "    <tr>\n",
       "      <th>18</th>\n",
       "      <td>6.16</td>\n",
       "    </tr>\n",
       "    <tr>\n",
       "      <th>19</th>\n",
       "      <td>7.40</td>\n",
       "    </tr>\n",
       "    <tr>\n",
       "      <th>20</th>\n",
       "      <td>8.17</td>\n",
       "    </tr>\n",
       "    <tr>\n",
       "      <th>21</th>\n",
       "      <td>8.81</td>\n",
       "    </tr>\n",
       "    <tr>\n",
       "      <th>22</th>\n",
       "      <td>8.53</td>\n",
       "    </tr>\n",
       "    <tr>\n",
       "      <th>23</th>\n",
       "      <td>11.92</td>\n",
       "    </tr>\n",
       "    <tr>\n",
       "      <th>24</th>\n",
       "      <td>20.30</td>\n",
       "    </tr>\n",
       "    <tr>\n",
       "      <th>25</th>\n",
       "      <td>11.84</td>\n",
       "    </tr>\n",
       "    <tr>\n",
       "      <th>26</th>\n",
       "      <td>14.03</td>\n",
       "    </tr>\n",
       "    <tr>\n",
       "      <th>27</th>\n",
       "      <td>36.08</td>\n",
       "    </tr>\n",
       "    <tr>\n",
       "      <th>28</th>\n",
       "      <td>85.51</td>\n",
       "    </tr>\n",
       "    <tr>\n",
       "      <th>29</th>\n",
       "      <td>71.08</td>\n",
       "    </tr>\n",
       "  </tbody>\n",
       "</table>\n",
       "</div>"
      ],
      "text/plain": [
       "    enflasyon\n",
       "0      125.49\n",
       "1       76.05\n",
       "2       79.76\n",
       "3       99.09\n",
       "4       69.73\n",
       "5       68.79\n",
       "6       39.03\n",
       "7       68.53\n",
       "8       29.75\n",
       "9       18.36\n",
       "10       9.32\n",
       "11       7.72\n",
       "12       9.65\n",
       "13       8.39\n",
       "14      10.06\n",
       "15       6.53\n",
       "16       6.40\n",
       "17      10.45\n",
       "18       6.16\n",
       "19       7.40\n",
       "20       8.17\n",
       "21       8.81\n",
       "22       8.53\n",
       "23      11.92\n",
       "24      20.30\n",
       "25      11.84\n",
       "26      14.03\n",
       "27      36.08\n",
       "28      85.51\n",
       "29      71.08"
      ]
     },
     "execution_count": 106,
     "metadata": {},
     "output_type": "execute_result"
    }
   ],
   "source": [
    "enflasyon"
   ]
  },
  {
   "cell_type": "code",
   "execution_count": 107,
   "id": "b7846d8e",
   "metadata": {},
   "outputs": [
    {
     "data": {
      "text/plain": [
       "pandas.core.frame.DataFrame"
      ]
     },
     "execution_count": 107,
     "metadata": {},
     "output_type": "execute_result"
    }
   ],
   "source": [
    "type(enflasyon)"
   ]
  },
  {
   "cell_type": "code",
   "execution_count": 108,
   "id": "fbf10b62",
   "metadata": {},
   "outputs": [],
   "source": [
    "x=enflasyon[0:].to_numpy()"
   ]
  },
  {
   "cell_type": "code",
   "execution_count": 109,
   "id": "f447561f",
   "metadata": {},
   "outputs": [
    {
     "data": {
      "text/plain": [
       "numpy.ndarray"
      ]
     },
     "execution_count": 109,
     "metadata": {},
     "output_type": "execute_result"
    }
   ],
   "source": [
    "type(x)"
   ]
  },
  {
   "cell_type": "code",
   "execution_count": 110,
   "id": "9f45ccbe",
   "metadata": {},
   "outputs": [
    {
     "data": {
      "text/plain": [
       "array([[125.49],\n",
       "       [ 76.05],\n",
       "       [ 79.76],\n",
       "       [ 99.09],\n",
       "       [ 69.73],\n",
       "       [ 68.79],\n",
       "       [ 39.03],\n",
       "       [ 68.53],\n",
       "       [ 29.75],\n",
       "       [ 18.36],\n",
       "       [  9.32],\n",
       "       [  7.72],\n",
       "       [  9.65],\n",
       "       [  8.39],\n",
       "       [ 10.06],\n",
       "       [  6.53],\n",
       "       [  6.4 ],\n",
       "       [ 10.45],\n",
       "       [  6.16],\n",
       "       [  7.4 ],\n",
       "       [  8.17],\n",
       "       [  8.81],\n",
       "       [  8.53],\n",
       "       [ 11.92],\n",
       "       [ 20.3 ],\n",
       "       [ 11.84],\n",
       "       [ 14.03],\n",
       "       [ 36.08],\n",
       "       [ 85.51],\n",
       "       [ 71.08]])"
      ]
     },
     "execution_count": 110,
     "metadata": {},
     "output_type": "execute_result"
    }
   ],
   "source": [
    "x"
   ]
  },
  {
   "cell_type": "code",
   "execution_count": 111,
   "id": "c72ab030",
   "metadata": {},
   "outputs": [
    {
     "data": {
      "text/plain": [
       "34.431000000000004"
      ]
     },
     "execution_count": 111,
     "metadata": {},
     "output_type": "execute_result"
    }
   ],
   "source": [
    "x.mean()"
   ]
  },
  {
   "cell_type": "code",
   "execution_count": 112,
   "id": "9f4aaaf3",
   "metadata": {},
   "outputs": [
    {
     "data": {
      "text/plain": [
       "34.568430919075524"
      ]
     },
     "execution_count": 112,
     "metadata": {},
     "output_type": "execute_result"
    }
   ],
   "source": [
    "np.std(x, ddof=1)"
   ]
  },
  {
   "cell_type": "markdown",
   "id": "8e5649e0",
   "metadata": {},
   "source": [
    "# Ortanca, Mod ve Kartil Değerlerini Hesaplama"
   ]
  },
  {
   "cell_type": "code",
   "execution_count": 113,
   "id": "e153de4a",
   "metadata": {},
   "outputs": [
    {
     "data": {
      "text/plain": [
       "12.975"
      ]
     },
     "execution_count": 113,
     "metadata": {},
     "output_type": "execute_result"
    }
   ],
   "source": [
    "np.median(x)"
   ]
  },
  {
   "cell_type": "code",
   "execution_count": 119,
   "id": "aed3273f",
   "metadata": {},
   "outputs": [],
   "source": [
    "mode=scipy.stats.mode(x)"
   ]
  },
  {
   "cell_type": "code",
   "execution_count": 120,
   "id": "f562ab20",
   "metadata": {},
   "outputs": [
    {
     "data": {
      "text/plain": [
       "ModeResult(mode=array([[6.16]]), count=array([[1]]))"
      ]
     },
     "execution_count": 120,
     "metadata": {},
     "output_type": "execute_result"
    }
   ],
   "source": [
    "mode"
   ]
  },
  {
   "cell_type": "code",
   "execution_count": 130,
   "id": "6ba40bc4",
   "metadata": {},
   "outputs": [],
   "source": [
    "quartiles=np.quantile(x,[0.25, 0.50, 0.75], method='weibull')"
   ]
  },
  {
   "cell_type": "code",
   "execution_count": 131,
   "id": "fa5b6cb3",
   "metadata": {},
   "outputs": [
    {
     "data": {
      "text/plain": [
       "array([ 8.495, 12.975, 69.025])"
      ]
     },
     "execution_count": 131,
     "metadata": {},
     "output_type": "execute_result"
    }
   ],
   "source": [
    "quartiles"
   ]
  },
  {
   "cell_type": "markdown",
   "id": "f7d37a83",
   "metadata": {},
   "source": [
    "# Aralık ve Kartiller Arası Fark"
   ]
  },
  {
   "cell_type": "code",
   "execution_count": 134,
   "id": "d0987373",
   "metadata": {},
   "outputs": [],
   "source": [
    "iqr=quartiles[2]-quartiles[0]"
   ]
  },
  {
   "cell_type": "code",
   "execution_count": 135,
   "id": "3ed459c8",
   "metadata": {},
   "outputs": [
    {
     "data": {
      "text/plain": [
       "60.53000000000001"
      ]
     },
     "execution_count": 135,
     "metadata": {},
     "output_type": "execute_result"
    }
   ],
   "source": [
    "iqr  #kartiller arası açıklık"
   ]
  },
  {
   "cell_type": "code",
   "execution_count": 136,
   "id": "21b3f6fc",
   "metadata": {},
   "outputs": [
    {
     "data": {
      "text/plain": [
       "119.33"
      ]
     },
     "execution_count": 136,
     "metadata": {},
     "output_type": "execute_result"
    }
   ],
   "source": [
    "np.ptp(x)  #aralık"
   ]
  },
  {
   "cell_type": "markdown",
   "id": "c568a5f5",
   "metadata": {},
   "source": [
    "# Histogram grafiği"
   ]
  },
  {
   "cell_type": "code",
   "execution_count": 137,
   "id": "3116645c",
   "metadata": {},
   "outputs": [],
   "source": [
    "hist, bin_edges=np.histogram(x, bins=6)"
   ]
  },
  {
   "cell_type": "code",
   "execution_count": 149,
   "id": "d26be675",
   "metadata": {},
   "outputs": [
    {
     "data": {
      "text/plain": [
       "array([18,  3,  0,  7,  1,  1])"
      ]
     },
     "execution_count": 149,
     "metadata": {},
     "output_type": "execute_result"
    }
   ],
   "source": [
    "hist"
   ]
  },
  {
   "cell_type": "code",
   "execution_count": 146,
   "id": "a55209a1",
   "metadata": {},
   "outputs": [],
   "source": [
    "from matplotlib import pyplot as plt"
   ]
  },
  {
   "cell_type": "code",
   "execution_count": 153,
   "id": "f01ae738",
   "metadata": {},
   "outputs": [
    {
     "data": {
      "text/plain": [
       "(array([17.,  3.,  0.,  7.,  1.,  1.]),\n",
       " array([  6.26,  26.6 ,  46.6 ,  66.6 ,  86.6 , 106.6 , 126.6 ]),\n",
       " <BarContainer object of 6 artists>)"
      ]
     },
     "execution_count": 153,
     "metadata": {},
     "output_type": "execute_result"
    },
    {
     "data": {
      "image/png": "[encoded data removed]",
      "text/plain": [
       "<Figure size 432x288 with 1 Axes>"
      ]
     },
     "metadata": {
      "needs_background": "light"
     },
     "output_type": "display_data"
    }
   ],
   "source": [
    "plt.hist(x, bins = [6.26, 26.6, 46.6, 66.6, 86.6, 106.6, 126.6])"
   ]
  },
  {
   "cell_type": "markdown",
   "id": "c5806154",
   "metadata": {},
   "source": [
    "# Soru 4"
   ]
  },
  {
   "cell_type": "markdown",
   "id": "c3394c73",
   "metadata": {},
   "source": [
    "# Kovaryans ve Korelasyon Katsayisi"
   ]
  },
  {
   "cell_type": "code",
   "execution_count": 168,
   "id": "30b3b6c5",
   "metadata": {},
   "outputs": [],
   "source": [
    "Glucose=[148, 85, 183, 89, 137]\n",
    "BMI=[33.6, 26.6, 23.3, 28.1, 43.1]"
   ]
  },
  {
   "cell_type": "code",
   "execution_count": 169,
   "id": "1869cbf4",
   "metadata": {},
   "outputs": [
    {
     "data": {
      "text/plain": [
       "array([19903.3])"
      ]
     },
     "execution_count": 169,
     "metadata": {},
     "output_type": "execute_result"
    }
   ],
   "source": [
    "np.correlate(Glucose, BMI)"
   ]
  },
  {
   "cell_type": "code",
   "execution_count": 170,
   "id": "f4c5f56e",
   "metadata": {},
   "outputs": [],
   "source": [
    "X=np.stack((Glucose, BMI), axis=0)"
   ]
  },
  {
   "cell_type": "code",
   "execution_count": 171,
   "id": "4bffcdc0",
   "metadata": {},
   "outputs": [
    {
     "data": {
      "text/plain": [
       "array([[148. ,  85. , 183. ,  89. , 137. ],\n",
       "       [ 33.6,  26.6,  23.3,  28.1,  43.1]])"
      ]
     },
     "execution_count": 171,
     "metadata": {},
     "output_type": "execute_result"
    }
   ],
   "source": [
    "X"
   ]
  },
  {
   "cell_type": "code",
   "execution_count": 172,
   "id": "ff3074e6",
   "metadata": {},
   "outputs": [
    {
     "data": {
      "text/plain": [
       "array([[1718.8  ,    9.955],\n",
       "       [   9.955,   60.053]])"
      ]
     },
     "execution_count": 172,
     "metadata": {},
     "output_type": "execute_result"
    }
   ],
   "source": [
    "np.cov(X)"
   ]
  },
  {
   "cell_type": "code",
   "execution_count": 173,
   "id": "59572166",
   "metadata": {},
   "outputs": [
    {
     "data": {
      "text/plain": [
       "array(1718.8)"
      ]
     },
     "execution_count": 173,
     "metadata": {},
     "output_type": "execute_result"
    }
   ],
   "source": [
    "np.cov(Glucose)"
   ]
  },
  {
   "cell_type": "code",
   "execution_count": 177,
   "id": "b8a9e8e5",
   "metadata": {},
   "outputs": [],
   "source": [
    "cof=np.corrcoef(Glucose, BMI)"
   ]
  },
  {
   "cell_type": "code",
   "execution_count": 178,
   "id": "6d6fe4d8",
   "metadata": {},
   "outputs": [
    {
     "data": {
      "text/plain": [
       "array([[1.        , 0.03098569],\n",
       "       [0.03098569, 1.        ]])"
      ]
     },
     "execution_count": 178,
     "metadata": {},
     "output_type": "execute_result"
    }
   ],
   "source": [
    "cof"
   ]
  },
  {
   "cell_type": "code",
   "execution_count": 198,
   "id": "63e2fe2d",
   "metadata": {},
   "outputs": [
    {
     "name": "stdout",
     "output_type": "stream",
     "text": [
      "Using matplotlib backend: QtAgg\n"
     ]
    }
   ],
   "source": [
    " %matplotlib\n",
    "import matplotlib.pyplot as plt\n",
    "np.random.seed(19680801)\n",
    "N = 50\n",
    "y=[148, 85, 183, 89, 137]\n",
    "x=[33.6, 26.6, 23.3, 28.1, 43.1]\n",
    "colors = [5, 45, 67,89,45]\n",
    "\n",
    "\n",
    "plt.scatter(x, y, s=5, c=colors, alpha=0.5)\n",
    "plt.show()"
   ]
  },
  {
   "cell_type": "code",
   "execution_count": null,
   "id": "049f442f",
   "metadata": {},
   "outputs": [],
   "source": []
  }
 ],
 "metadata": {
  "kernelspec": {
   "display_name": "Python 3 (ipykernel)",
   "language": "python",
   "name": "python3"
  },
  "language_info": {
   "codemirror_mode": {
    "name": "ipython",
    "version": 3
   },
   "file_extension": ".py",
   "mimetype": "text/x-python",
   "name": "python",
   "nbconvert_exporter": "python",
   "pygments_lexer": "ipython3",
   "version": "3.9.12"
  }
 },
 "nbformat": 4,
 "nbformat_minor": 5
}
